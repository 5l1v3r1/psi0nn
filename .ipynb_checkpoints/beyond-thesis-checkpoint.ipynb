{
 "cells": [
  {
   "cell_type": "markdown",
   "metadata": {},
   "source": [
    "# Scaling up the low-energy $\\psi_{NN, MPS}$ solver\n",
    "I want to compute $\\psi_0$, from the $H_{sys}$ coupling terms for a large system ($N>20$ where $N$ is the number of sites). In order to make this happen, we need to figure out **how to compute the energy of a state in $\\mathcal{O}(N)$ time**. I suppose this means computing energy expectation values in the MPS picture.\n",
    "\n",
    "Sam Greydanus. 29 May 2017. MIT License."
   ]
  },
  {
   "cell_type": "markdown",
   "metadata": {},
   "source": [
    "### Dependencies"
   ]
  },
  {
   "cell_type": "code",
   "execution_count": 1,
   "metadata": {
    "collapsed": true
   },
   "outputs": [],
   "source": [
    "# plotting tools\n",
    "% matplotlib inline\n",
    "import matplotlib.pyplot as plt\n",
    "from matplotlib.pyplot import *\n",
    "\n",
    "# linear algebra tools\n",
    "import numpy as np\n",
    "from scipy.sparse.linalg import eigsh\n",
    "from scipy.sparse import kron, identity\n",
    "np.random.seed(seed=123) # for reproducibility\n",
    "\n",
    "# utility for building training Hamiltonians (see ham.py file in this folder)\n",
    "from system import Site"
   ]
  },
  {
   "cell_type": "markdown",
   "metadata": {},
   "source": [
    "The main change we need to make is to begin calculating energy expectation values for $\\psi_{NN,MPS}$ directly from the MPS coefficients. The [Eckholt thesis](http://www2.mpq.mpg.de/Theorygroup/CIRAC/wiki/images/9/9f/Eckholt_Diplom.pdf) has a description of how to do this in section 3.2.1. As a summary, Eckholt makes the definition:\n",
    "\n",
    "$$E_{0_i}:= \\sum_{s_i,s_i'=1}^{d} \\langle s_i' \\vert O_i \\vert s_i \\rangle \\left( A[i]^{s_i} \\otimes (A[i]^{s_i'})^*\\right)$$\n",
    "\n",
    "Here, each $E_{0_i}$ is called a **transfer matrix**. If we multiply and trace over the transfer matrices, we can calculate expectation values for the full system.\n",
    "\n",
    "$$ \\bar A_{sys} = \\langle \\psi_{NN,MPS} \\vert O \\vert \\psi_{NN,MPS} \\rangle = Tr[E_{O_1} \\dots E_{O_N}]$$\n",
    "\n",
    "Here, $A$ is an observable which corresponds to the operator $O$. We're interested in the case where $O=H$ and $\\bar A= \\bar E_{sys}$ ($H$ is a Hamiltonian and $\\bar E_{sys}$ is energy).\n",
    "\n",
    "<img src=\"static/mps.png\" alt=\"MPS tensor diagram\" style=\"width: 40%;\"/>"
   ]
  },
  {
   "cell_type": "markdown",
   "metadata": {},
   "source": [
    "### Now imagine we have 3 sites interacting via the Heisenberg Hamiltonian..."
   ]
  },
  {
   "cell_type": "code",
   "execution_count": 2,
   "metadata": {
    "collapsed": true
   },
   "outputs": [],
   "source": [
    "# we don't provide J and Jz so they are chosen from N(mu, sigma)\n",
    "couplings = {'alpha1':1, 'alpha2':1, 'beta':1, 'gamma':1}\n",
    "a = Site(couplings)\n",
    "b = Site(couplings)\n",
    "c = Site(couplings)\n",
    "sites = [a,b,c]"
   ]
  },
  {
   "cell_type": "markdown",
   "metadata": {},
   "source": [
    "### Imagine that the system we just made is in the GHZ state...\n",
    "\n",
    "The definition of MPS is\n",
    "\n",
    "$$\\vert \\psi_{mps} \\rangle = \\sum_{s_1,\\dots,s_N=1}^d Tr(A[1]^{s_1} A[2]^{s_2} \\dots A[N]^{s_N}) \\vert s_1, \\dots s_N \\rangle$$\n",
    "\n",
    "Using Eckholt's example of MPS coefficents for the GHZ state (see section 3.1.4), we have for $A[i]$ (where $i$ is the site indice and goes from 1 to $N$)\n",
    "\n",
    "$$\n",
    "  A[i]^0=\n",
    "  \\begin{pmatrix} \n",
    "  1 & 0 \\\\\n",
    "  0 & 0 \n",
    "  \\end{pmatrix}\n",
    "  \\quad and \\quad\n",
    "  A[i]^1=\n",
    "  \\begin{pmatrix} \n",
    "  0 & 0 \\\\\n",
    "  0 & 1\n",
    "  \\end{pmatrix}\n",
    "  $$\n",
    "  \n",
    "Each matrix in $A$ is of dimension $[m \\times m]$ where $m$ is a user-defined value that corresponds to the bond dimension."
   ]
  },
  {
   "cell_type": "code",
   "execution_count": 3,
   "metadata": {
    "collapsed": true
   },
   "outputs": [],
   "source": [
    "m = 2 # user-defined constant (see definition of MPS)\n",
    "d = 2 # spin-1/2 particles\n",
    "N = len(sites) # the system size is 3\n",
    "A_list = [] # MPS list of coefficients\n",
    "for state in range(d):\n",
    "    A_list.append([])\n",
    "    for site in range(N):\n",
    "        A = np.zeros((m,m)) ; A[state,state] = 1\n",
    "        A_list[state].append(A)"
   ]
  },
  {
   "cell_type": "markdown",
   "metadata": {},
   "source": [
    "### Now, how can we compute $\\bar E_{sys} $ from the local Hamiltonains and the $A$ matrices?\n",
    "\n",
    "Below is my attempt at solving the problem. **Not sure** if it's correct.\n",
    "\n",
    "<img src=\"static/mps.png\" alt=\"MPS tensor diagram\" style=\"width: 40%;\"/>\n",
    "\n",
    "### 1) Compute transfer matrices\n",
    "\n",
    "The first step is to build the transfer matrices. Remember, they are defined as\n",
    "\n",
    "$$E_{0_i}:= \\sum_{s_i,s_i'=1}^{d} \\langle s_i' \\vert O_i \\vert s_i \\rangle \\left( A[i]^{s_i} \\otimes (A[i]^{s_i'})^*\\right)$$"
   ]
  },
  {
   "cell_type": "code",
   "execution_count": 4,
   "metadata": {},
   "outputs": [
    {
     "name": "stdout",
     "output_type": "stream",
     "text": [
      "one step in summation: \n",
      " 0 \n",
      " [[ 0.24933636]]\n",
      "one step in summation: \n",
      " 1 \n",
      " [[-0.24933636]]\n",
      "one step in summation: \n",
      " 1 \n",
      " [[-0.24933636]]\n",
      "one step in summation: \n",
      " 1 \n",
      " [[ 0.24933636]]\n",
      "one step in summation: \n",
      " 1 \n",
      " [[-0.37657368]]\n",
      "one step in summation: \n",
      " 2 \n",
      " [[ 0.37657368]]\n",
      "one step in summation: \n",
      " 2 \n",
      " [[ 0.37657368]]\n",
      "one step in summation: \n",
      " 2 \n",
      " [[-0.37657368]]\n"
     ]
    }
   ],
   "source": [
    "e_tot = 0\n",
    "Ts = [] # this list will hold the transfer matrices\n",
    "for pair_i in range(len(sites)-1): # loop through each pair of adjecent sites\n",
    "    a = sites[pair_i] # first site in pair\n",
    "    b = sites[pair_i+1] # second site in pair\n",
    "    for s_i in range(a.get_dim()): # loop through possible states of site a in range=(0,N-1) [from 0 not 1 bc Python]\n",
    "        for s_j in range(b.get_dim()): # loop through possible states of site a\n",
    "            state_a = np.zeros((a.get_dim(),1)) # allocate a state vector for site a\n",
    "            state_b = np.zeros((b.get_dim(),1)) # allocate a state vector for site b\n",
    "            state_a[s_i] = 1 ## state a is in state s_i\n",
    "            state_b[s_j] = 1 ## state b is in state s_i\n",
    "            state_ab = kron(state_a,state_b).toarray() ## combine the two states **[CAN WE DO THIS???]**\n",
    "\n",
    "            H = a.interaction_H(b).toarray() # get interaction Hamiltonian\n",
    "            e = state_ab.T.dot(H).dot(state_ab) # energy expectation value ~ <psi_{ab} | H_{ab} | psi_{ab} >\n",
    "            print(\"one step in summation: \\n\", len(Ts), '\\n', e)\n",
    "            T_component = e[0,0]*kron(A_list[s_i][0], A_list[s_j][1]).toarray() # Eckholt equation 3.6\n",
    "            if (s_i+s_j) is 0:\n",
    "                Ts.append(T_component) # new transfer matrix for each site\n",
    "            else:\n",
    "                Ts[-1] = Ts[-1] + T_component # otherwise continue assembling current transfer matrix"
   ]
  },
  {
   "cell_type": "markdown",
   "metadata": {},
   "source": [
    "### 2) Multiply and trace\n",
    "\n",
    "Now we need to multiply and trace the transfer matrices:\n",
    "\n",
    "$$ \\bar E_{sys} = \\langle \\psi_{NN,MPS} \\vert O \\vert \\psi_{NN,MPS} \\rangle = Tr[E_{O_1} \\dots E_{O_N}]$$"
   ]
  },
  {
   "cell_type": "code",
   "execution_count": 5,
   "metadata": {},
   "outputs": [
    {
     "name": "stdout",
     "output_type": "stream",
     "text": [
      "expected energy is: -0.3756\n"
     ]
    }
   ],
   "source": [
    "e_transfer = np.trace(Ts[0].dot(Ts[1]))\n",
    "print(\"expected energy is: {:.4f}\".format( e_transfer ))"
   ]
  },
  {
   "cell_type": "markdown",
   "metadata": {},
   "source": [
    "### 3) Check my answer\n",
    "\n",
    "Ok, I have a scalar value which **might** correspond to the energy of the GHZ state for the sites a, b, and c. I'd like to check my answer by computing the energy of the same state for the full system. Here's my attempt to do so...also **not sure if it's correct**."
   ]
  },
  {
   "cell_type": "code",
   "execution_count": 6,
   "metadata": {},
   "outputs": [
    {
     "name": "stdout",
     "output_type": "stream",
     "text": [
      "E_0: -1.0565 / < psi0 | H | psi0 >: -1.0565\n",
      "< ghz | H | ghz >: 0.4987\n",
      "Energy computed from full system and from transfer matrices match:  False\n"
     ]
    }
   ],
   "source": [
    "# compute energy of a state, given the Hamiltonian\n",
    "def state2e(p, H):\n",
    "    assert (type(p) is np.ndarray and type(H) is np.ndarray), \"Types of state and Hamiltonian should be np.ndarray\"\n",
    "    e = np.dot(np.dot(p.T, H_abc.toarray()), p)\n",
    "    assert len(e) is 1, \"dimension of < state | H | state > is not 1\"\n",
    "    return e[0,0]\n",
    "    \n",
    "# compute the system Hamiltonian\n",
    "for i, s in enumerate(sites):\n",
    "    sys = s if i is 0 else sys.enlarge(s)\n",
    "H_abc = sys.ops['H']\n",
    "\n",
    "# compute ground state and check that the state2e function works\n",
    "(e0,), psi0 = eigsh(H_abc,k=1, which=\"SA\")\n",
    "e_psi0 = state2e(psi0, H)\n",
    "print( \"E_0: {:.4f} / < psi0 | H | psi0 >: {:.4f}\".format(e0, e_psi0) )\n",
    "\n",
    "# construct GHZ state and compute energy\n",
    "ghz = np.zeros((d**N,1))\n",
    "ghz[(0,-1),(0,-1)] = 1/np.sqrt(2.)\n",
    "e_ghz = state2e(ghz, H)\n",
    "\n",
    "# compare GHZ state energy computed in full system picture to the expectation value computed in the MPS picture\n",
    "print( \"< ghz | H | ghz >: {:.4f}\".format(e_ghz) )\n",
    "print(\"Energy computed from full system and from transfer matrices match: \", np.allclose(e_ghz, e_transfer, 0.01) )"
   ]
  },
  {
   "cell_type": "markdown",
   "metadata": {},
   "source": [
    "### Thoughts\n",
    "\n",
    "Something is wrong here. It's probably the way I'm calculating the transfer matrices."
   ]
  },
  {
   "cell_type": "code",
   "execution_count": null,
   "metadata": {
    "collapsed": true
   },
   "outputs": [],
   "source": []
  }
 ],
 "metadata": {
  "kernelspec": {
   "display_name": "Python 3",
   "language": "python",
   "name": "python3"
  },
  "language_info": {
   "codemirror_mode": {
    "name": "ipython",
    "version": 3
   },
   "file_extension": ".py",
   "mimetype": "text/x-python",
   "name": "python",
   "nbconvert_exporter": "python",
   "pygments_lexer": "ipython3",
   "version": "3.6.1"
  }
 },
 "nbformat": 4,
 "nbformat_minor": 2
}
