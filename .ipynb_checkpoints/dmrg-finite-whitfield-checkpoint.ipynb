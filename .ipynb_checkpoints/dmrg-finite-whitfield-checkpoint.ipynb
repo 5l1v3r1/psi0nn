{
 "cells": [
  {
   "cell_type": "markdown",
   "metadata": {
    "deletable": true,
    "editable": true
   },
   "source": [
    "# JDW NOTES\n",
    "Trying to construct MPS for ZZ Hamiltonian.  The coefficents are slightly off from what I'd expect. I think there's a local Hamiltonain included and the normalization of the S_z matricies is different that what I envisioned -- JDW"
   ]
  },
  {
   "cell_type": "markdown",
   "metadata": {
    "deletable": true,
    "editable": true
   },
   "source": [
    "# Finite DMRG\n",
    "**Implementation of the Density Matrix Renormalization Group (DMRG) Algorithm for a finite 1D line**\n",
    "\n",
    "Sam Greydanus. January 2017. MIT License\n",
    "\n",
    "Code inspired by https://github.com/simple-dmrg/simple-dmrg/"
   ]
  },
  {
   "cell_type": "code",
   "execution_count": 1,
   "metadata": {
    "collapsed": false,
    "deletable": true,
    "editable": true
   },
   "outputs": [],
   "source": [
    "% matplotlib inline\n",
    "import matplotlib.pyplot as plt\n",
    "\n",
    "import numpy as np\n",
    "import scipy as sp\n",
    "import copy\n",
    "from scipy.sparse import kron, identity\n",
    "from scipy.sparse.linalg import eigsh  # Lanczos routine from ARPACK\n",
    "#from matplotlib import spy             # for visualizing the sparse matricies"
   ]
  },
  {
   "cell_type": "markdown",
   "metadata": {
    "deletable": true,
    "editable": true
   },
   "source": [
    "## Visual overview\n",
    "<img src=\"static/dmrg-block-1.svg\" alt=\"Finite DMRG base case\" style=\"width: 70%;\"/>\n",
    "Shown above: $ \\hat H_E = \\hat H_B + \\hat H_S + \\hat H_{BS} $\n",
    "<img src=\"static/dmrg-block-2.svg\" alt=\"Finite DMRG enlarged by one site\" style=\"width: 70%;\"/>\n",
    "Shown above: _enlarge_ operation\n",
    "<img src=\"static/dmrg-block-3.svg\" alt=\"Finite DMRG enlarged by one site\" style=\"width: 70%;\"/>\n",
    "Shown above: $ \\hat H_{super} = \\hat H_E + \\hat H_{E'} + \\hat H_{SS'} $\n",
    "\n",
    "## One step of DMRG:\n",
    "1. Find superblock Hamiltonian\n",
    "    $$ \\hat H_{super} = \\hat H_E + \\hat H_{E'} + \\hat H_{SS'} $$\n",
    "\n",
    "2. Find the $\\hat H_{super}$ ground state\n",
    "    * Diagonalize Hamiltonian and take eigenvector corresponding to largest eigenvalue\n",
    "    $$ H = U \\Lambda U^\\dagger \\quad s.t. \\quad \\Lambda_{ii} = \\lambda_i \\quad$$\n",
    "    $$ \\quad max(\\lambda_1, \\lambda_2 ... \\lambda_N) \\rightarrow \\lvert \\psi_G \\rangle $$\n",
    "\n",
    "3. Construct and diagonalize the reduced density matrix\n",
    "    $$ \\hat \\rho_L = Tr_R \\lvert \\psi_G \\rangle \\langle \\psi_G \\rvert $$\n",
    "\n",
    "4. Build transformation matrix from m larges eigenvectors\n",
    "    $$ O = \\left[ u_1:u_2:\\dots:u_m \\right] \\quad for \\quad sort(\\lambda_1, \\lambda_2 ... \\lambda_N) \\rightarrow u_1, u_2, ... u_N$$\n",
    "5. Estimate truncation error\n",
    "    $$\\epsilon_{tr} \\approx \\sum_{i>m} \\lambda_i = 1 - \\sum_{i<m} \\lambda_i $$\n",
    "\n",
    "6. Rotate and truncate each operator\n",
    "    $$ \\hat S_{L+1}'(q) = \\hat O_{L \\rightarrow L+1}^{\\dagger} \\hat S_{L+1}(q) \\hat O_{L \\rightarrow L+1}$$"
   ]
  },
  {
   "cell_type": "code",
   "execution_count": 2,
   "metadata": {
    "collapsed": false,
    "deletable": true,
    "editable": true
   },
   "outputs": [],
   "source": [
    "class FreeSite():\n",
    "    def __init__(self):\n",
    "        self.length = 1 # length\n",
    "        self.ops = ops = {}\n",
    "        self.O = 0\n",
    "        \n",
    "        # build operator dictionary\n",
    "        ops[\"H\"] = np.zeros((2,2)) # local Hamiltonian np.random.randn(2,2)\n",
    "        ops[\"Sz\"] = np.array([[0.5, 0], [0, -0.5]]) # z spin (S^z) operator\n",
    "        ops[\"Sp\"] = np.array([[0.0, 1.0], [0.0, 0.0]]) # raising (S^+) operator\n",
    "    \n",
    "    def get_dim(self):\n",
    "        return self.ops.values()[0].shape[0] # all ops should have same dimensionality\n",
    "        \n",
    "    def enlarge(self, site):\n",
    "        '''Enlarge block by a single site'''\n",
    "        \n",
    "        D1, H1, Sz1, Sp1 = self.get_dim(), self.ops['H'], self.ops['Sz'], self.ops['Sp'] # this block\n",
    "        D2, H2, Sz2, Sp2 = site.get_dim(), site.ops['H'], site.ops['Sz'], site.ops['Sp'] # another block (ie free site)\n",
    "\n",
    "        enlarged = copy.deepcopy(self)\n",
    "        enlarged.length += site.length\n",
    "        ops = enlarged.ops\n",
    "\n",
    "        ops['H'] = kron(H1, identity(D2)) + kron(identity(D1), H2) + self.interaction_H(site)\n",
    "        ops['Sz'] = kron(identity(D1), Sz2)\n",
    "        ops['Sp'] = kron(identity(D1), Sp2)\n",
    "\n",
    "        return enlarged\n",
    "    \n",
    "    def interaction_H(self, site):\n",
    "        '''Given another block, returns two-site term in the \n",
    "        Hamiltonain that joins the two sites.'''\n",
    "        Sz1, Sp1 = self.ops[\"Sz\"], self.ops[\"Sp\"] # this block\n",
    "        Sz2, Sp2 = site.ops[\"Sz\"], site.ops[\"Sp\"] # another block\n",
    "        \n",
    "        J = 0.\n",
    "        Jz = -4.\n",
    "        join_Sp = (J/2)*(kron(Sp1, Sp2.conjugate().transpose()) + kron(Sp1.conjugate().transpose(), Sp2))\n",
    "        join_Sz = Jz*kron(Sz1, Sz2)\n",
    "        \n",
    "        #print \"ZZ in interaction_H\"\n",
    "        #print -1.*np.kron(Sz1,Sz2)\n",
    "        \n",
    "        return (join_Sp + join_Sz)\n",
    "    \n",
    "    def rotate_ops(self, transformation_matrix):\n",
    "        # rotate and truncate each operator.\n",
    "        new_ops = {}\n",
    "        for name, op in self.ops.items():\n",
    "            new_ops[name] = self.rotate_and_truncate(op, transformation_matrix)\n",
    "        self.O=transformation_matrix\n",
    "        self.ops = new_ops\n",
    "    \n",
    "    @staticmethod\n",
    "    def rotate_and_truncate(S, O):\n",
    "        '''Transforms the operator to a new (possibly truncated) basis'''\n",
    "        return O.conjugate().transpose().dot(S.dot(O)) # eqn 7 in arXiv:cond-mat/0603842v2"
   ]
  },
  {
   "cell_type": "code",
   "execution_count": 3,
   "metadata": {
    "collapsed": true,
    "deletable": true,
    "editable": true
   },
   "outputs": [],
   "source": [
    "def clean(A): #makes data easier to read by throwing away terms less than 1e-12\n",
    "    return(np.round(A*1e12)/1e12)"
   ]
  },
  {
   "cell_type": "code",
   "execution_count": 4,
   "metadata": {
    "collapsed": true,
    "deletable": true,
    "editable": true
   },
   "outputs": [],
   "source": [
    "def graphic(sys, env, sys_label='l'):\n",
    "    assert sys_label in ('l', 'r'), 'Label must be \"l\" or \"r\"'\n",
    "    graphic = ('=' * sys.length) + '**' + ('-' * env.length)\n",
    "    return graphic if sys_label is \"l\" else graphic[::-1]"
   ]
  },
  {
   "cell_type": "code",
   "execution_count": 9,
   "metadata": {
    "collapsed": false,
    "deletable": true,
    "editable": true
   },
   "outputs": [],
   "source": [
    "def step(sys, env, free_site, m):\n",
    "    '''One DMRG step keeping maximum of m states in new basis'''\n",
    "    \n",
    "    # enlarge blocks\n",
    "    sys_enl = sys.enlarge(free_site)\n",
    "    env_enl = sys_enl if env is sys else env.enlarge(free_site)\n",
    "    sys_ops, env_ops = sys_enl.ops, env_enl.ops\n",
    "    sys_enl_m, env_enl_m = sys_enl.get_dim(), env_enl.get_dim()\n",
    "    \n",
    "    # find superblock hamiltonian\n",
    "    H_E1 = kron(sys_ops[\"H\"], identity(env_enl_m))\n",
    "    H_E2 = kron(identity(sys_enl_m), env_ops[\"H\"])\n",
    "    H_SS = sys_enl.interaction_H(env_enl)\n",
    "    H_super = H_E1 + H_E2 + H_SS\n",
    "\n",
    "    \n",
    "\n",
    "    print \"Super Hamiltonian\"\n",
    "    print H_super\n",
    "    evals,evecs= eigsh(H_super,k=6)\n",
    "\n",
    "    \n",
    "    ##########################    ##########################    ##########################\n",
    "    ##########################    ##########################    ##########################\n",
    "    if(clean(evals[0]) == clean(evals[1])):\n",
    "        #transform to reduce the nnz of the eigenvectors\n",
    "        ev0=clean(evecs[:,0])\n",
    "        ev1=clean(evecs[:,1])    \n",
    "        j=0\n",
    "        while ev1[j]==0:\n",
    "            j=j+1\n",
    "        v=np.zeros(ev1.size)\n",
    "        v[j]=1;\n",
    "        w=ev1-v;        \n",
    "        c=np.dot(v,ev1)\n",
    "        #Householder rotation\n",
    "        P=np.eye(H_super.size)-2*(1/np.dot(w,w))*np.outer(w,w)\n",
    "\n",
    "       \n",
    "            \n",
    "        #0 #print clean(np.dot(w,ev1)-(1-c))\n",
    "        #0 #print clean(2-2*c),clean(np.dot(w.conjugate(),w))\n",
    "        #0 #print sp.linalg.norm(np.mat(clean(w*np.dot(w.conjugate().transpose(),ev1))- clean(np.dot(Pw,ev1))))\n",
    "        #1 #print np.dot(ev1,ev1)\n",
    "        \n",
    "\n",
    "        #print P\n",
    "        ev0= clean(np.dot(P,ev0))\n",
    "        ev1= clean(np.dot(P,ev1))\n",
    "        energy=evals[0]\n",
    "        psi0=(ev0+ev1)/np.sqrt(2)\n",
    "    ##########################    ##########################    ##########################\n",
    "    ##########################    ##########################    ##########################\n",
    "    ##########################    ##########################    ##########################\n",
    "    \n",
    "    \n",
    "#    print \"eigenvalues and vectors\"\n",
    "#    print evals\n",
    "#    print clean(evecs)\n",
    "\n",
    "\n",
    "    \n",
    "    # find the superblock ground state. \"SA\"= smallest amplitude e'value\n",
    "    #(energy,), psi0 = eigsh(H_super, k=1, which=\"SA\")\n",
    "    \n",
    "    \n",
    "    #print evals\n",
    "    #print evecs\n",
    "    \n",
    "    \n",
    "\n",
    "    # construct reduced density matrix. we want (sys, env) -> (row, column)\n",
    "    psi0 = psi0.reshape([sys_enl_m, -1])\n",
    "    rho = np.dot(psi0, psi0.conjugate().transpose())\n",
    "    \n",
    "    # diagonalize reduced density matrix, sort e'vecs by e'vals\n",
    "    evals, evecs = np.linalg.eigh(rho)\n",
    "    possible_eigenstates = []\n",
    "    for eval, evec in zip(evals, evecs.transpose()):\n",
    "        possible_eigenstates.append((eval, evec))\n",
    "    possible_eigenstates.sort(reverse=True, key=lambda x: x[0])  # largest e'values first\n",
    "    \n",
    "    print \"density matrix\"\n",
    "    print clean(rho)\n",
    "    \n",
    "    print \"zeroth eigenvalue and eigenvector\"\n",
    "    print clean(possible_eigenstates[0][0])\n",
    "    print clean(possible_eigenstates[0][1])\n",
    "\n",
    "    print \"first\"\n",
    "    print clean(possible_eigenstates[1][0])\n",
    "    print clean(possible_eigenstates[1][1])\n",
    "    \n",
    "    \n",
    "\n",
    "    if clean(possible_eigenstates[2][0])== clean(possible_eigenstates[2][0]):\n",
    "        \n",
    "        print \"second\"    \n",
    "        print clean(possible_eigenstates[2][0])\n",
    "        print clean(possible_eigenstates[2][1]+possible_eigenstates[3][1])\n",
    "\n",
    "        print \"third\"\n",
    "        print clean(possible_eigenstates[3][0])\n",
    "        print clean(possible_eigenstates[2][1]-possible_eigenstates[3][1])\n",
    "        \n",
    "    else:\n",
    "        \n",
    "        print \"second\"    \n",
    "        print clean(possible_eigenstates[2][0])\n",
    "        print clean(possible_eigenstates[2][1])\n",
    "\n",
    "        print \"third\"\n",
    "        print clean(possible_eigenstates[3][0])\n",
    "        print clean(possible_eigenstates[3][1])\n",
    "    \n",
    "    \n",
    "    # build transformation matrix from m overall most significant e'vecs\n",
    "    \n",
    "    m = min(len(possible_eigenstates), m)\n",
    "    \n",
    "    transformation_matrix = np.zeros((sys_enl_m, m))\n",
    "    for i, (eigval, evec) in enumerate(possible_eigenstates[:m]):\n",
    "        if(eigval>1e-10): #drop eigenvectors in null space, note eigenvalues will be positive since it is density matrix\n",
    "            transformation_matrix[:, i] = evec\n",
    "        else:\n",
    "            m=m-1\n",
    "    transformation_matrix=transformation_matrix[:,0:m]\n",
    "\n",
    "    error = 1 - sum([x[0] for x in possible_eigenstates[:m]])\n",
    "    sys_enl.rotate_ops(transformation_matrix)\n",
    "\n",
    "    return sys_enl, energy, error"
   ]
  },
  {
   "cell_type": "code",
   "execution_count": 10,
   "metadata": {
    "collapsed": false
   },
   "outputs": [
    {
     "data": {
      "text/plain": [
       "matrix([[ 1.-0.j],\n",
       "        [ 2.-0.j],\n",
       "        [ 1.-3.j],\n",
       "        [ 3.-0.j]])"
      ]
     },
     "execution_count": 10,
     "metadata": {},
     "output_type": "execute_result"
    }
   ],
   "source": [
    "x=np.mat('[1,2,1+3j,3]')\n",
    "x.conjugate().transpose()"
   ]
  },
  {
   "cell_type": "markdown",
   "metadata": {
    "deletable": true,
    "editable": true
   },
   "source": [
    "### Run infinite DMRG"
   ]
  },
  {
   "cell_type": "code",
   "execution_count": 11,
   "metadata": {
    "collapsed": false,
    "deletable": true,
    "editable": true
   },
   "outputs": [],
   "source": [
    "L=8\n",
    "m_warmup=20                # JDW -- what's m in the code? The cutoff for the MPS bond dimension\n",
    "m_sweep_list=[20, 20, 20]\n",
    "block_mem = {}             # memory for Block objects\n",
    "\n",
    "assert L % 2 == 0, \"L must be even\""
   ]
  },
  {
   "cell_type": "code",
   "execution_count": 12,
   "metadata": {
    "collapsed": false,
    "deletable": true,
    "editable": true
   },
   "outputs": [
    {
     "name": "stdout",
     "output_type": "stream",
     "text": [
      "building finite system to size L\n",
      "Super Hamiltonian\n",
      "  (0, 0)\t-3.0\n",
      "  (1, 1)\t1.0\n",
      "  (2, 2)\t-1.0\n",
      "  (3, 3)\t-1.0\n",
      "  (4, 4)\t1.0\n",
      "  (5, 5)\t1.0\n",
      "  (6, 6)\t3.0\n",
      "  (7, 7)\t-1.0\n",
      "  (8, 8)\t-1.0\n",
      "  (9, 9)\t3.0\n",
      "  (10, 10)\t1.0\n",
      "  (11, 11)\t1.0\n",
      "  (12, 12)\t-1.0\n",
      "  (13, 13)\t-1.0\n",
      "  (14, 14)\t1.0\n",
      "  (15, 15)\t-3.0\n",
      "density matrix\n",
      "[[ 0.5  0.   0.   0. ]\n",
      " [ 0.   0.   0.   0. ]\n",
      " [ 0.   0.   0.   0. ]\n",
      " [ 0.   0.   0.   0.5]]\n",
      "zeroth eigenvalue and eigenvector\n",
      "0.5\n",
      "[ 1.  0.  0.  0.]\n",
      "first\n",
      "0.5\n",
      "[ 0.  0.  0.  1.]\n",
      "second\n",
      "0.0\n",
      "[ 0.  1.  1.  0.]\n",
      "third\n",
      "0.0\n",
      "[ 0.  1. -1.  0.]\n",
      "('E/L =', -0.74999999999999989)\n",
      "2\n"
     ]
    }
   ],
   "source": [
    "# build system using infinite system\n",
    "free_site = FreeSite()\n",
    "block = copy.deepcopy(free_site) # block starts out as one free site\n",
    "\n",
    "block_mem[\"l\", block.length] = block\n",
    "block_mem[\"r\", block.length] = block\n",
    "print \"building finite system to size L\"\n",
    "while 2 * block.length < L:\n",
    "    # one DMRG step, save block to mem\n",
    "    #print(graphic(block, block))\n",
    "    block, energy, error = step(block, block, free_site, m=m_warmup)\n",
    "    print(\"E/L =\", energy / (block.length * 2))\n",
    "    break\n",
    "    #print(energy)\n",
    "    #print((block.length * 2))\n",
    "    block_mem[\"l\", block.length] = block\n",
    "    block_mem[\"r\", block.length] = block\n",
    "infin_block = block\n",
    "print block.get_dim()"
   ]
  },
  {
   "cell_type": "code",
   "execution_count": 13,
   "metadata": {
    "collapsed": false,
    "deletable": true,
    "editable": true
   },
   "outputs": [
    {
     "data": {
      "text/plain": [
       "array([[ 1.,  0.],\n",
       "       [ 0.,  0.],\n",
       "       [ 0.,  0.],\n",
       "       [ 0.,  1.]])"
      ]
     },
     "execution_count": 13,
     "metadata": {},
     "output_type": "execute_result"
    }
   ],
   "source": [
    "clean(block.O)"
   ]
  },
  {
   "cell_type": "code",
   "execution_count": 14,
   "metadata": {
    "collapsed": false,
    "deletable": true,
    "editable": true
   },
   "outputs": [
    {
     "data": {
      "text/plain": [
       "matrix([[-0.        ,  0.        ,  2.00452758,  0.        ]])"
      ]
     },
     "execution_count": 14,
     "metadata": {},
     "output_type": "execute_result"
    }
   ],
   "source": [
    "v1=np.matrix([[-0.    ,      0.96582954 , 1.0330408  , 0.        ]]);\n",
    "v2=np.matrix([ 0.   ,       1.0330408,  -0.96582954, -0.        ]);\n",
    "va=[0 ,1, 0 ,0];\n",
    "vb=[0, 0, 1, 0];\n",
    "\n",
    "v1/v1[0,1]-v2/v2[0,1]\n"
   ]
  },
  {
   "cell_type": "code",
   "execution_count": 15,
   "metadata": {
    "collapsed": false,
    "deletable": true,
    "editable": true,
    "scrolled": true
   },
   "outputs": [
    {
     "ename": "KeyError",
     "evalue": "('r', 4)",
     "output_type": "error",
     "traceback": [
      "\u001b[0;31m---------------------------------------------------------------------------\u001b[0m",
      "\u001b[0;31mKeyError\u001b[0m                                  Traceback (most recent call last)",
      "\u001b[0;32m<ipython-input-15-e5ecacd61272>\u001b[0m in \u001b[0;36m<module>\u001b[0;34m()\u001b[0m\n\u001b[1;32m      4\u001b[0m \u001b[0;32mfor\u001b[0m \u001b[0mm\u001b[0m \u001b[0;32min\u001b[0m \u001b[0mm_sweep_list\u001b[0m\u001b[0;34m:\u001b[0m\u001b[0;34m\u001b[0m\u001b[0m\n\u001b[1;32m      5\u001b[0m     \u001b[0;32mwhile\u001b[0m \u001b[0mTrue\u001b[0m\u001b[0;34m:\u001b[0m\u001b[0;34m\u001b[0m\u001b[0m\n\u001b[0;32m----> 6\u001b[0;31m         \u001b[0menv\u001b[0m \u001b[0;34m=\u001b[0m \u001b[0mblock_mem\u001b[0m\u001b[0;34m[\u001b[0m\u001b[0menv_label\u001b[0m\u001b[0;34m,\u001b[0m \u001b[0mL\u001b[0m \u001b[0;34m-\u001b[0m \u001b[0msys\u001b[0m\u001b[0;34m.\u001b[0m\u001b[0mlength\u001b[0m \u001b[0;34m-\u001b[0m \u001b[0;36m2\u001b[0m\u001b[0;34m]\u001b[0m \u001b[0;31m# load env block from memory\u001b[0m\u001b[0;34m\u001b[0m\u001b[0m\n\u001b[0m\u001b[1;32m      7\u001b[0m         \u001b[0;32mif\u001b[0m \u001b[0menv\u001b[0m\u001b[0;34m.\u001b[0m\u001b[0mlength\u001b[0m \u001b[0;34m==\u001b[0m \u001b[0;36m1\u001b[0m\u001b[0;34m:\u001b[0m                            \u001b[0;31m# reverse direction\u001b[0m\u001b[0;34m\u001b[0m\u001b[0m\n\u001b[1;32m      8\u001b[0m             \u001b[0msys\u001b[0m\u001b[0;34m,\u001b[0m \u001b[0menv\u001b[0m \u001b[0;34m=\u001b[0m \u001b[0menv\u001b[0m\u001b[0;34m,\u001b[0m \u001b[0msys\u001b[0m\u001b[0;34m\u001b[0m\u001b[0m\n",
      "\u001b[0;31mKeyError\u001b[0m: ('r', 4)"
     ]
    }
   ],
   "source": [
    "# now that we've built the system, sweep back and forth\n",
    "sys_label, env_label = \"l\", \"r\"\n",
    "sys = block; del block  # rename block\n",
    "for m in m_sweep_list:\n",
    "    while True:\n",
    "        env = block_mem[env_label, L - sys.length - 2] # load env block from memory\n",
    "        if env.length == 1:                            # reverse direction\n",
    "            sys, env = env, sys\n",
    "            sys_label, env_label = env_label, sys_label\n",
    "\n",
    "        # one DMRG step\n",
    "        print(graphic(sys, env, sys_label))\n",
    "        sys, energy, error = step(sys, env, free_site, m=m)\n",
    "        print(\"E/L: {} \\t error: {}\".format(energy/L, error))\n",
    "\n",
    "        # save new block\n",
    "        block_mem[sys_label, sys.length] = sys\n",
    "\n",
    "        # full sweep?\n",
    "        if sys_label == \"l\" and 2 * sys.length == L: break\n",
    "            \n",
    "print \"Final E=\",energy\n",
    "fin_block = sys"
   ]
  },
  {
   "cell_type": "code",
   "execution_count": 16,
   "metadata": {
    "collapsed": false,
    "deletable": true,
    "editable": true
   },
   "outputs": [],
   "source": [
    "def zero_out(n): return np.round(1e10*n)/1e10;"
   ]
  },
  {
   "cell_type": "markdown",
   "metadata": {
    "deletable": true,
    "editable": true
   },
   "source": [
    "The MPS representation is here.  It should be straightforward to find considering that the energy is correct.  Let's go step by step"
   ]
  },
  {
   "cell_type": "code",
   "execution_count": 17,
   "metadata": {
    "collapsed": false,
    "deletable": true,
    "editable": true
   },
   "outputs": [
    {
     "ename": "NameError",
     "evalue": "name 'block' is not defined",
     "output_type": "error",
     "traceback": [
      "\u001b[0;31m---------------------------------------------------------------------------\u001b[0m",
      "\u001b[0;31mNameError\u001b[0m                                 Traceback (most recent call last)",
      "\u001b[0;32m<ipython-input-17-c89f12c55e6f>\u001b[0m in \u001b[0;36m<module>\u001b[0;34m()\u001b[0m\n\u001b[1;32m      1\u001b[0m \u001b[0;31m#SETUP SWEEP\u001b[0m\u001b[0;34m\u001b[0m\u001b[0;34m\u001b[0m\u001b[0m\n\u001b[1;32m      2\u001b[0m \u001b[0msys_label\u001b[0m\u001b[0;34m,\u001b[0m \u001b[0menv_label\u001b[0m \u001b[0;34m=\u001b[0m \u001b[0;34m\"l\"\u001b[0m\u001b[0;34m,\u001b[0m \u001b[0;34m\"r\"\u001b[0m\u001b[0;34m\u001b[0m\u001b[0m\n\u001b[0;32m----> 3\u001b[0;31m \u001b[0msys\u001b[0m \u001b[0;34m=\u001b[0m \u001b[0mblock\u001b[0m\u001b[0;34m;\u001b[0m \u001b[0;32mdel\u001b[0m \u001b[0mblock\u001b[0m  \u001b[0;31m# rename block\u001b[0m\u001b[0;34m\u001b[0m\u001b[0m\n\u001b[0m",
      "\u001b[0;31mNameError\u001b[0m: name 'block' is not defined"
     ]
    }
   ],
   "source": [
    "#SETUP SWEEP\n",
    "sys_label, env_label = \"l\", \"r\"\n",
    "sys = block; del block  # rename block"
   ]
  },
  {
   "cell_type": "code",
   "execution_count": 18,
   "metadata": {
    "collapsed": false,
    "deletable": true,
    "editable": true
   },
   "outputs": [
    {
     "ename": "KeyError",
     "evalue": "('r', 3)",
     "output_type": "error",
     "traceback": [
      "\u001b[0;31m---------------------------------------------------------------------------\u001b[0m",
      "\u001b[0;31mKeyError\u001b[0m                                  Traceback (most recent call last)",
      "\u001b[0;32m<ipython-input-18-c37cec153fd6>\u001b[0m in \u001b[0;36m<module>\u001b[0;34m()\u001b[0m\n\u001b[0;32m----> 1\u001b[0;31m \u001b[0mnp\u001b[0m\u001b[0;34m.\u001b[0m\u001b[0mmatrix\u001b[0m\u001b[0;34m(\u001b[0m\u001b[0mzero_out\u001b[0m\u001b[0;34m(\u001b[0m\u001b[0mblock_mem\u001b[0m\u001b[0;34m[\u001b[0m\u001b[0;34m'r'\u001b[0m\u001b[0;34m,\u001b[0m\u001b[0;36m3\u001b[0m\u001b[0;34m]\u001b[0m\u001b[0;34m.\u001b[0m\u001b[0mO\u001b[0m\u001b[0;34m)\u001b[0m\u001b[0;34m)\u001b[0m\u001b[0;34m\u001b[0m\u001b[0m\n\u001b[0m",
      "\u001b[0;31mKeyError\u001b[0m: ('r', 3)"
     ]
    }
   ],
   "source": [
    "np.matrix(zero_out(block_mem['r',3].O))"
   ]
  },
  {
   "cell_type": "markdown",
   "metadata": {
    "deletable": true,
    "editable": true
   },
   "source": [
    "## Operators before/after finite algorithm sweeps"
   ]
  },
  {
   "cell_type": "code",
   "execution_count": 19,
   "metadata": {
    "collapsed": false,
    "deletable": true,
    "editable": true
   },
   "outputs": [
    {
     "name": "stdout",
     "output_type": "stream",
     "text": [
      "Before sweeps:\n"
     ]
    },
    {
     "data": {
      "image/png": "[encoded data removed]",
      "text/plain": [
       "<matplotlib.figure.Figure at 0x10b0dcad0>"
      ]
     },
     "metadata": {},
     "output_type": "display_data"
    },
    {
     "name": "stdout",
     "output_type": "stream",
     "text": [
      "After sweeps:\n"
     ]
    },
    {
     "ename": "NameError",
     "evalue": "name 'fin_block' is not defined",
     "output_type": "error",
     "traceback": [
      "\u001b[0;31m---------------------------------------------------------------------------\u001b[0m",
      "\u001b[0;31mNameError\u001b[0m                                 Traceback (most recent call last)",
      "\u001b[0;32m<ipython-input-19-dd844441c2d2>\u001b[0m in \u001b[0;36m<module>\u001b[0;34m()\u001b[0m\n\u001b[1;32m      8\u001b[0m \u001b[0;32mprint\u001b[0m \u001b[0;34m\"After sweeps:\"\u001b[0m\u001b[0;34m\u001b[0m\u001b[0m\n\u001b[1;32m      9\u001b[0m \u001b[0mplt\u001b[0m\u001b[0;34m.\u001b[0m\u001b[0mfigure\u001b[0m\u001b[0;34m(\u001b[0m\u001b[0mfigsize\u001b[0m\u001b[0;34m=\u001b[0m\u001b[0;34m[\u001b[0m\u001b[0;36m10\u001b[0m\u001b[0;34m,\u001b[0m\u001b[0;36m10\u001b[0m\u001b[0;34m]\u001b[0m\u001b[0;34m)\u001b[0m\u001b[0;34m\u001b[0m\u001b[0m\n\u001b[0;32m---> 10\u001b[0;31m \u001b[0mplt\u001b[0m\u001b[0;34m.\u001b[0m\u001b[0msubplot\u001b[0m\u001b[0;34m(\u001b[0m\u001b[0;36m131\u001b[0m\u001b[0;34m)\u001b[0m \u001b[0;34m;\u001b[0m \u001b[0mplt\u001b[0m\u001b[0;34m.\u001b[0m\u001b[0mtitle\u001b[0m\u001b[0;34m(\u001b[0m\u001b[0;34m\"Block Hamiltonian\"\u001b[0m\u001b[0;34m)\u001b[0m \u001b[0;34m;\u001b[0m \u001b[0mplt\u001b[0m\u001b[0;34m.\u001b[0m\u001b[0mimshow\u001b[0m\u001b[0;34m(\u001b[0m\u001b[0mfin_block\u001b[0m\u001b[0;34m.\u001b[0m\u001b[0mops\u001b[0m\u001b[0;34m[\u001b[0m\u001b[0;34m'H'\u001b[0m\u001b[0;34m]\u001b[0m\u001b[0;34m)\u001b[0m\u001b[0;34m\u001b[0m\u001b[0m\n\u001b[0m\u001b[1;32m     11\u001b[0m \u001b[0mplt\u001b[0m\u001b[0;34m.\u001b[0m\u001b[0msubplot\u001b[0m\u001b[0;34m(\u001b[0m\u001b[0;36m132\u001b[0m\u001b[0;34m)\u001b[0m \u001b[0;34m;\u001b[0m \u001b[0mplt\u001b[0m\u001b[0;34m.\u001b[0m\u001b[0mtitle\u001b[0m\u001b[0;34m(\u001b[0m\u001b[0;34m\"Block S^z\"\u001b[0m\u001b[0;34m)\u001b[0m \u001b[0;34m;\u001b[0m \u001b[0mplt\u001b[0m\u001b[0;34m.\u001b[0m\u001b[0mimshow\u001b[0m\u001b[0;34m(\u001b[0m\u001b[0mfin_block\u001b[0m\u001b[0;34m.\u001b[0m\u001b[0mops\u001b[0m\u001b[0;34m[\u001b[0m\u001b[0;34m'Sz'\u001b[0m\u001b[0;34m]\u001b[0m\u001b[0;34m)\u001b[0m\u001b[0;34m\u001b[0m\u001b[0m\n\u001b[1;32m     12\u001b[0m \u001b[0mplt\u001b[0m\u001b[0;34m.\u001b[0m\u001b[0msubplot\u001b[0m\u001b[0;34m(\u001b[0m\u001b[0;36m133\u001b[0m\u001b[0;34m)\u001b[0m \u001b[0;34m;\u001b[0m \u001b[0mplt\u001b[0m\u001b[0;34m.\u001b[0m\u001b[0mtitle\u001b[0m\u001b[0;34m(\u001b[0m\u001b[0;34m\"Block S^+\"\u001b[0m\u001b[0;34m)\u001b[0m \u001b[0;34m;\u001b[0m \u001b[0mplt\u001b[0m\u001b[0;34m.\u001b[0m\u001b[0mimshow\u001b[0m\u001b[0;34m(\u001b[0m\u001b[0mfin_block\u001b[0m\u001b[0;34m.\u001b[0m\u001b[0mops\u001b[0m\u001b[0;34m[\u001b[0m\u001b[0;34m'Sp'\u001b[0m\u001b[0;34m]\u001b[0m\u001b[0;34m)\u001b[0m\u001b[0;34m\u001b[0m\u001b[0m\n",
      "\u001b[0;31mNameError\u001b[0m: name 'fin_block' is not defined"
     ]
    },
    {
     "data": {
      "image/png": "[encoded data removed]",
      "text/plain": [
       "<matplotlib.figure.Figure at 0x10b2b2c50>"
      ]
     },
     "metadata": {},
     "output_type": "display_data"
    }
   ],
   "source": [
    "print \"Before sweeps:\"\n",
    "plt.figure(figsize=[10,10])\n",
    "plt.subplot(131) ; plt.title(\"Block Hamiltonian\") ; plt.imshow(infin_block.ops['H'])\n",
    "plt.subplot(132) ; plt.title(\"Block S^z\") ; plt.imshow(infin_block.ops['Sz'])\n",
    "plt.subplot(133) ; plt.title(\"Block S^+\") ; plt.imshow(infin_block.ops['Sp'])\n",
    "plt.show()\n",
    "\n",
    "print \"After sweeps:\"\n",
    "plt.figure(figsize=[10,10])\n",
    "plt.subplot(131) ; plt.title(\"Block Hamiltonian\") ; plt.imshow(fin_block.ops['H'])\n",
    "plt.subplot(132) ; plt.title(\"Block S^z\") ; plt.imshow(fin_block.ops['Sz'])\n",
    "plt.subplot(133) ; plt.title(\"Block S^+\") ; plt.imshow(fin_block.ops['Sp'])\n",
    "plt.show()"
   ]
  },
  {
   "cell_type": "code",
   "execution_count": null,
   "metadata": {
    "collapsed": true,
    "deletable": true,
    "editable": true
   },
   "outputs": [],
   "source": []
  },
  {
   "cell_type": "code",
   "execution_count": null,
   "metadata": {
    "collapsed": true,
    "deletable": true,
    "editable": true
   },
   "outputs": [],
   "source": []
  }
 ],
 "metadata": {
  "kernelspec": {
   "display_name": "Python 2",
   "language": "python",
   "name": "python2"
  },
  "language_info": {
   "codemirror_mode": {
    "name": "ipython",
    "version": 2
   },
   "file_extension": ".py",
   "mimetype": "text/x-python",
   "name": "python",
   "nbconvert_exporter": "python",
   "pygments_lexer": "ipython2",
   "version": "2.7.10"
  }
 },
 "nbformat": 4,
 "nbformat_minor": 1
}
