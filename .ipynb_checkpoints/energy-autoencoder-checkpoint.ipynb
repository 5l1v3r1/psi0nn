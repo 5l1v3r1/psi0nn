{
 "cells": [
  {
   "cell_type": "markdown",
   "metadata": {},
   "source": [
    "# Try solving for MPS coefficients using energy as loss\n",
    "\n",
    "Sam Greydanus. March 2017. MIT License.\n",
    "\n",
    "Brief explanation and live demo of autoencoder [here](https://cs.stanford.edu/people/karpathy/convnetjs/demo/autoencoder.html). Wikipedia article [here](https://en.wikipedia.org/wiki/Autoencoder).\n",
    "\n",
    "<img src=\"static/autoencoder.png\" alt=\"Finite DMRG base case\" style=\"width: 40%;\"/>\n",
    "\n",
    "I modify the decoder part. Instead of being a neural network, I use the definition of reconstructing a state using MPS coefficients"
   ]
  },
  {
   "cell_type": "code",
   "execution_count": 1,
   "metadata": {
    "collapsed": true
   },
   "outputs": [],
   "source": [
    "import numpy as np\n",
    "import sys\n",
    "import tensorflow as tf\n",
    "\n",
    "import matplotlib.pyplot as plt\n",
    "%matplotlib inline"
   ]
  },
  {
   "cell_type": "markdown",
   "metadata": {},
   "source": [
    "## Utility functions\n",
    "Simple functions that might be helpful"
   ]
  },
  {
   "cell_type": "code",
   "execution_count": 2,
   "metadata": {
    "collapsed": true
   },
   "outputs": [],
   "source": [
    "def llprint(message):\n",
    "    sys.stdout.write(message)\n",
    "    sys.stdout.flush()\n",
    "    \n",
    "def to_base_n(x, n):\n",
    "    '''converts a number x to a string of base n. For example, if x=6 and\n",
    "    n=2 then the function returns \"110\" (6 in binary) '''\n",
    "    s = \"\" # string that we'll fill\n",
    "    while x:\n",
    "        s = str(x % n) + s ; x /= n\n",
    "    return '0' if s is '' else s"
   ]
  },
  {
   "cell_type": "markdown",
   "metadata": {},
   "source": [
    "## Autoencoder 'decode' portion\n",
    "These functions are written for TensorFlow variables. TensorFlow uses lazy execution, meaning that it builds an optimized computational graph and only executes the operations in that graph after a `run` or `eval` request. See https://www.tensorflow.org/get_started/mnist/mechanics for a good introduction to TensorFlow mechanics"
   ]
  },
  {
   "cell_type": "code",
   "execution_count": 3,
   "metadata": {
    "collapsed": true
   },
   "outputs": [],
   "source": [
    "def mps2state(A_list):\n",
    "    '''given a list of mps coefficients, returns the state of the full system.\n",
    "    The input A_list is indexed according to A_list[{local state}][{local site}].'''\n",
    "    d = len(A_list) # number of possible states\n",
    "    chi = len(A_list[0]) # number of possible sites\n",
    "    c = [] # the state\n",
    "    for sys_state in range(d**chi): # loop over \n",
    "        ix = to_base_n(sys_state, d)\n",
    "        ix = '0'*(len(A_list[0])-len(ix)) + ix # pad string w zeros\n",
    "        for site in range(chi):\n",
    "            site_state = A_list[int(ix[site])][site]\n",
    "            prod = site_state if site is 0 else tf.matmul(prod, site_state) # matrix multiplication (contract tensors)\n",
    "        c.append(tf.trace(prod))\n",
    "    return tf.stack(c)\n",
    "\n",
    "def coeff2mps(coeff, d, chi):\n",
    "    '''given a vector of coefficients of length chi*d^3, reshapes them into an A_list\n",
    "    that can be passed to mps2state function above'''\n",
    "    splits = tf.split(coeff,d*chi,axis=1)\n",
    "    dxd_splits = [tf.reshape(c, [d,d]) for c in splits]\n",
    "    A_list = [dxd_splits[d_i*chi:(1+d_i)*chi] for d_i in range(d)]\n",
    "    return A_list"
   ]
  },
  {
   "cell_type": "markdown",
   "metadata": {},
   "source": [
    "## Autoencoder 'encode' portion\n",
    "We'll use a 2-layer neural network with 512 hidden units and [elu activations](https://arxiv.org/abs/1511.07289)."
   ]
  },
  {
   "cell_type": "code",
   "execution_count": 4,
   "metadata": {
    "collapsed": false
   },
   "outputs": [],
   "source": [
    "# model hyperparameters\n",
    "lr = 5e-4 # learning rate\n",
    "batch_size = 1 # batch size for minibatch gradient descent\n",
    "steps = 50000  # total steps of gradient descent\n",
    "global_step = 0 # keeps track of current step of gradient descent\n",
    "d = 2 # number of quantum states available to each site\n",
    "chi = 3 # number of sites (ie electrons)\n",
    "\n",
    "X_dim = d**chi # autoencoder input dimensionality\n",
    "h2_dim = h1_dim = 512 # dimensionality of hidden layer(s)\n",
    "h3_dim = d*chi*d*d # dimensionality of MPS 'coeff' vector\n",
    "init = tf.truncated_normal_initializer(stddev=0.075, dtype=tf.float32) # says how to initialize the NN weights + biases\n",
    "\n",
    "save_path = \"saved_models/model.ckpt\"\n",
    "save_every = 10000\n",
    "save_model = True\n",
    "\n",
    "# trainable parameters\n",
    "#      => keep them in a dictionary for organizational purposes\n",
    "params = {}\n",
    "params['W1'] = tf.get_variable(\"W1\", [X_dim, h1_dim], initializer=init)\n",
    "params['b1'] = tf.get_variable(\"b1\", [h1_dim], initializer=init)\n",
    "params['W2'] = tf.get_variable(\"W2\", [h1_dim, h2_dim], initializer=init)\n",
    "params['b2'] = tf.get_variable(\"b2\", [h2_dim], initializer=init)\n",
    "\n",
    "params['W3'] = tf.get_variable(\"W3\", [h2_dim, h3_dim], initializer=init)\n",
    "params['b3'] = tf.get_variable(\"b3\", [h3_dim], initializer=init)"
   ]
  },
  {
   "cell_type": "markdown",
   "metadata": {},
   "source": [
    "## The full Autoencoder forward pass\n",
    "First encode with the neural network, then decode using the definition of MPS"
   ]
  },
  {
   "cell_type": "code",
   "execution_count": 5,
   "metadata": {
    "collapsed": false
   },
   "outputs": [],
   "source": [
    "# def nn_forward(X):\n",
    "#     # neural network forward pass\n",
    "#     z1 = tf.matmul(X, params['W1']) + params['b1']\n",
    "#     h1 = tf.nn.elu(z1) # elu nonlinear activation\n",
    "#     z2 = tf.matmul(h1, params['W2']) + params['b2']\n",
    "#     return tf.nn.sigmoid(z2) # we want all of the predicted MPS coefficients to be positive\n",
    "\n",
    "def nn_forward(X):\n",
    "    # neural network forward pass\n",
    "    z1 = tf.matmul(X, params['W1']) + params['b1']\n",
    "    h1 = tf.nn.tanh(z1) # elu nonlinear activation\n",
    "#     h1 = tf.nn.dropout(h1, .8)\n",
    "    z2 = tf.matmul(h1, params['W2']) + params['b2']\n",
    "    h2 = tf.nn.tanh(z2)\n",
    "    z3 = tf.matmul(h2, params['W3']) + params['b3']\n",
    "    return tf.nn.sigmoid(z3) # we want all of the predicted MPS coefficients to be positive\n",
    "\n",
    "def forward(X):\n",
    "    '''defines one forward pass of the neural network encoder. The input is the\n",
    "    full-dimension state vector of the system and the output is an attempt at\n",
    "    reconstructing the input vector after compressing it as a set of MPS coefficients'''\n",
    "    coeff = nn_forward(X)\n",
    "    \n",
    "    A_list = coeff2mps(coeff, d, chi) # repackage output vector as a list of A matrices\n",
    "    psi_hat = mps2state(A_list) # reconstruct the original state vector from these A matrices by definition of MPS\n",
    "    return psi_hat"
   ]
  },
  {
   "cell_type": "markdown",
   "metadata": {},
   "source": [
    "## TensorFlow mechanics\n",
    "These are a set of TensorFlow utilities that we'll need to train/interact with our autoencoder."
   ]
  },
  {
   "cell_type": "code",
   "execution_count": 6,
   "metadata": {
    "collapsed": false
   },
   "outputs": [],
   "source": [
    "# We will pass numpy vectors of the same dimensionality to placeholders.\n",
    "# Think of them as entrypoints to the computational graph\n",
    "X = tf.placeholder(tf.float32, [batch_size, X_dim])\n",
    "y = tf.placeholder(tf.float32, [batch_size, X_dim])\n",
    "y_hat = forward(X) # forward pass of the autoencoder\n",
    "loss = tf.nn.l2_loss( y - y_hat ) / X_dim * 1e4 # loss function (we want to minimize this value)\n",
    "\n",
    "optimizer = tf.train.AdamOptimizer(lr) # The Adam optimizer is a fancy sibling of stochastic gradient descent\n",
    "grads = optimizer.compute_gradients(loss, \\\n",
    "                                var_list=tf.trainable_variables()) # get derivatives on all trainable variables\n",
    "train_op = optimizer.apply_gradients(grads) # apply gradients (update trainable variables)"
   ]
  },
  {
   "cell_type": "markdown",
   "metadata": {},
   "source": [
    "Now we have built the full computational graph. In order to execute it, we need to start a session. Sessions hold all the state information of a TensorFlow model (e.g. parameters)"
   ]
  },
  {
   "cell_type": "code",
   "execution_count": 7,
   "metadata": {
    "collapsed": true
   },
   "outputs": [],
   "source": [
    "sess = tf.InteractiveSession() # start an interactive session\n",
    "tf.global_variables_initializer().run() # initialize all variables"
   ]
  },
  {
   "cell_type": "markdown",
   "metadata": {},
   "source": [
    "## Model overview\n",
    "Let's take a look at the trainable parameters"
   ]
  },
  {
   "cell_type": "code",
   "execution_count": 8,
   "metadata": {
    "collapsed": false
   },
   "outputs": [
    {
     "name": "stdout",
     "output_type": "stream",
     "text": [
      "Model overview:\n",
      "\tvariable \"W1:0\" has 4096 parameters\n",
      "\tvariable \"b1:0\" has 512 parameters\n",
      "\tvariable \"W2:0\" has 262144 parameters\n",
      "\tvariable \"b2:0\" has 512 parameters\n",
      "\tvariable \"W3:0\" has 12288 parameters\n",
      "\tvariable \"b3:0\" has 24 parameters\n",
      "Total of 279576 parameters\n"
     ]
    }
   ],
   "source": [
    "total_parameters = 0 ; print \"Model overview:\"\n",
    "for variable in tf.trainable_variables():\n",
    "    shape = variable.get_shape()\n",
    "    variable_parameters = 1\n",
    "    for dim in shape:\n",
    "        variable_parameters *= dim.value\n",
    "    print '\\tvariable \"{}\" has {} parameters' \\\n",
    "        .format(variable.name, variable_parameters)\n",
    "    total_parameters += variable_parameters\n",
    "print \"Total of {} parameters\".format(total_parameters)"
   ]
  },
  {
   "cell_type": "markdown",
   "metadata": {},
   "source": [
    "## Data generator\n",
    "In order to train the model, we need data. In this case, I'll just choose each example state vector to be a random d^chi vector such that the dot product of the vector with its conjugate transpose is normalized (a necessary property of a state vector)"
   ]
  },
  {
   "cell_type": "code",
   "execution_count": 9,
   "metadata": {
    "collapsed": false
   },
   "outputs": [
    {
     "name": "stdout",
     "output_type": "stream",
     "text": [
      "[[ 0.16945563  0.64965616  0.29187841  0.41333444  0.27000271  0.00108476\n",
      "   0.34612723  0.31699622]]\n",
      "[[ 1.]]\n"
     ]
    }
   ],
   "source": [
    "def next_batch(chi, d, batch_size):\n",
    "    psi = np.random.rand(batch_size, d**chi)\n",
    "    psi_squared = np.dot(psi, psi.T)\n",
    "#     psi_squared /= np.sum(psi_squared)\n",
    "    psi /= np.sum(psi_squared)**.5\n",
    "    return psi\n",
    "k = next_batch(chi, d, 1)\n",
    "print k\n",
    "print np.dot(k, k.conjugate().T)"
   ]
  },
  {
   "cell_type": "markdown",
   "metadata": {},
   "source": [
    "## Load saved model\n",
    "...if it exists"
   ]
  },
  {
   "cell_type": "code",
   "execution_count": 10,
   "metadata": {
    "collapsed": false
   },
   "outputs": [
    {
     "name": "stdout",
     "output_type": "stream",
     "text": [
      "no saved model to load.\n"
     ]
    }
   ],
   "source": [
    "global_step = 0\n",
    "saver = tf.train.Saver(tf.global_variables())\n",
    "load_was_success = True # yes, I'm being optimistic\n",
    "try:\n",
    "    save_dir = '/'.join(save_path.split('/')[:-1])\n",
    "    ckpt = tf.train.get_checkpoint_state(save_dir)\n",
    "    load_path = ckpt.model_checkpoint_path\n",
    "    saver.restore(sess, load_path)\n",
    "except:\n",
    "    print \"no saved model to load.\"\n",
    "    load_was_success = False\n",
    "else:\n",
    "    print \"loaded model: {}\".format(load_path)\n",
    "    saver = tf.train.Saver(tf.global_variables())\n",
    "    global_step = int(load_path.split('-')[-1]) + 1"
   ]
  },
  {
   "cell_type": "markdown",
   "metadata": {},
   "source": [
    "## Train the model\n",
    "Display the loss every so often. It should be decreasing."
   ]
  },
  {
   "cell_type": "code",
   "execution_count": null,
   "metadata": {
    "collapsed": false,
    "scrolled": true
   },
   "outputs": [
    {
     "name": "stdout",
     "output_type": "stream",
     "text": [
      "Iteration 20799/50000"
     ]
    }
   ],
   "source": [
    "loss_history = []\n",
    "for i in xrange(global_step+1, 100000):\n",
    "    llprint(\"\\rIteration {}/{}\".format(i, steps))\n",
    "\n",
    "    np_X = next_batch(chi, d, batch_size) # get a random state vector\n",
    "\n",
    "    fetch = [loss, train_op] # list of all the TensorFlow variables and operations we want to fetch from the model\n",
    "    feed = {X: np_X, y: np_X} # pair each placeholder with a numpy matrix of the same dimensions.\n",
    "\n",
    "    step_loss, _ = sess.run(fetch, feed_dict=feed) # run the loss and train_op (we don't care what train_op returns)\n",
    "    loss_history.append(step_loss)\n",
    "    \n",
    "    global_step = i\n",
    "    if i % 1000 == 0:\n",
    "        llprint(\"\\n\\tloss: {:03.4f}\\n\".format(np.mean(loss_history))) # show the average loss for the past several\n",
    "        loss_history = []\n",
    "    if save_model and i % save_every == 0 and i is not 0:\n",
    "        llprint(\"\\n\\tSAVING MODEL\\n\")\n",
    "        saver.save(sess, save_path, global_step=global_step)"
   ]
  },
  {
   "cell_type": "markdown",
   "metadata": {},
   "source": [
    "# Inspect autoencoded MPS for GHZ state\n",
    "The closer the two are, the better."
   ]
  },
  {
   "cell_type": "code",
   "execution_count": 12,
   "metadata": {
    "collapsed": false
   },
   "outputs": [
    {
     "name": "stdout",
     "output_type": "stream",
     "text": [
      "[ 0.70710678  0.          0.          0.          0.          0.          0.\n",
      "  0.70710678]\n",
      "[ 0.6604988   0.04430348  0.04583761  0.0369877   0.04734439  0.06350318\n",
      "  0.03991023  0.66774231]\n"
     ]
    },
    {
     "data": {
      "image/png": "[encoded data removed]",
      "text/plain": [
       "<matplotlib.figure.Figure at 0x11125d710>"
      ]
     },
     "metadata": {},
     "output_type": "display_data"
    },
    {
     "data": {
      "image/png": "[encoded data removed]",
      "text/plain": [
       "<matplotlib.figure.Figure at 0x112dc0190>"
      ]
     },
     "metadata": {},
     "output_type": "display_data"
    }
   ],
   "source": [
    "# build the GHZ state\n",
    "k = np.zeros((1, d**chi))\n",
    "k[:,0] = np.sqrt(1/2.)\n",
    "k[:,-1] = np.sqrt(1/2.)\n",
    "\n",
    "# feed GHZ state through model (try to reconstruct it from predicted MPS coefficients)\n",
    "feed = {X: k}\n",
    "k_hat = y_hat.eval(feed) # get reconstructed state\n",
    "\n",
    "# compare the actual state with the reconstructed state\n",
    "print k.ravel()\n",
    "print k_hat.ravel()\n",
    "\n",
    "# plot the vectors so it's easier to visualize\n",
    "plt.figure(0) ; plt.imshow(k, interpolation='none') ; plt.title('true $\\psi$')\n",
    "plt.figure(1) ; plt.imshow(np.stack([k_hat]), interpolation='none') ; plt.title('MPS autoencoded $\\psi$')\n",
    "plt.show()"
   ]
  },
  {
   "cell_type": "markdown",
   "metadata": {},
   "source": [
    "## Inspect actual MPS coeff\n",
    "Just run the encoding portion of the autoencoder so that we can inspect how the model is encoding the GHZ state (and whether that encoding matches theory)"
   ]
  },
  {
   "cell_type": "code",
   "execution_count": 13,
   "metadata": {
    "collapsed": false
   },
   "outputs": [],
   "source": [
    "def get_mps(X):\n",
    "    '''This is the encoder portion of the autencoder. It returns MPS coefficients\n",
    "    which we can inspect to see whether the models encoding matches theory'''\n",
    "    coeff = nn_forward(X)\n",
    "    A_list = coeff2mps(coeff, d, chi)\n",
    "    return A_list"
   ]
  },
  {
   "cell_type": "markdown",
   "metadata": {},
   "source": [
    "Now look at the MPS coefficients for a given state and site"
   ]
  },
  {
   "cell_type": "code",
   "execution_count": 24,
   "metadata": {
    "collapsed": false
   },
   "outputs": [
    {
     "name": "stdout",
     "output_type": "stream",
     "text": [
      "[[ 0.91525602  0.001     ]\n",
      " [ 0.61617202  0.001     ]]\n"
     ]
    }
   ],
   "source": [
    "# get the model's prediction\n",
    "state = 1 # there are a total of d states\n",
    "site = 0 # there are a total of chi sites\n",
    "print np.clip(get_mps(X)[state][site].eval(feed), 1e-3, 1-1e-3)"
   ]
  },
  {
   "cell_type": "code",
   "execution_count": 18,
   "metadata": {
    "collapsed": false
   },
   "outputs": [
    {
     "name": "stdout",
     "output_type": "stream",
     "text": [
      "\tstate 0\n",
      "\t\tsite 0\n",
      "\t\t\tmodel:\n",
      "\t\t\t[[ 0.001       0.66779441]\n",
      "\t\t\t [ 0.12320261  0.85323137]]\n",
      "\t\t\tmodel:\n",
      "\t\t\t[[ 1.  0.]\n",
      "\t\t\t [ 0.  0.]]\n",
      "\t\tsite 1\n",
      "\t\t\tmodel:\n",
      "\t\t\t[[ 0.08254892  0.07784991]\n",
      "\t\t\t [ 0.82086802  0.07432278]]\n",
      "\t\t\tmodel:\n",
      "\t\t\t[[ 1.  0.]\n",
      "\t\t\t [ 0.  0.]]\n",
      "\t\tsite 2\n",
      "\t\t\tmodel:\n",
      "\t\t\t[[ 0.00153049  0.92836469]\n",
      "\t\t\t [ 0.001       0.001     ]]\n",
      "\t\t\tmodel:\n",
      "\t\t\t[[ 1.  0.]\n",
      "\t\t\t [ 0.  0.]]\n",
      "\tstate 1\n",
      "\t\tsite 0\n",
      "\t\t\tmodel:\n",
      "\t\t\t[[ 0.91525602  0.001     ]\n",
      "\t\t\t [ 0.61617202  0.001     ]]\n",
      "\t\t\tmodel:\n",
      "\t\t\t[[ 0.  0.]\n",
      "\t\t\t [ 0.  1.]]\n",
      "\t\tsite 1\n",
      "\t\t\tmodel:\n",
      "\t\t\t[[ 0.06958883  0.81918871]\n",
      "\t\t\t [ 0.04775675  0.06169476]]\n",
      "\t\t\tmodel:\n",
      "\t\t\t[[ 0.  0.]\n",
      "\t\t\t [ 0.  1.]]\n",
      "\t\tsite 2\n",
      "\t\t\tmodel:\n",
      "\t\t\t[[ 0.001       0.001     ]\n",
      "\t\t\t [ 0.88908833  0.00216273]]\n",
      "\t\t\tmodel:\n",
      "\t\t\t[[ 0.  0.]\n",
      "\t\t\t [ 0.  1.]]\n"
     ]
    }
   ],
   "source": [
    "# construct the ideal MPS for the GHZ state\n",
    "A_list = [] # MPS list of coefficients\n",
    "for state in range(d):\n",
    "    A_list.append([])\n",
    "    for site in range(chi):\n",
    "        A = np.zeros((d,d)) ; A[state,state] = 1\n",
    "        A_list[state].append(A)\n",
    "        \n",
    "# compare\n",
    "for j in range(d):\n",
    "    print\"\\tstate %i\" % j\n",
    "    for k in range(chi):\n",
    "        print \"\\t\\tsite {}\".format(k)\n",
    "        pred_A_list = np.clip(get_mps(X)[j][k].eval(feed), 1e-3, 1-1e-3)\n",
    "        print('\\t\\t\\tmodel:\\n\\t\\t\\t' + str(pred_A_list).replace('\\n', '\\n\\t\\t\\t'))\n",
    "        print('\\t\\t\\tmodel:\\n\\t\\t\\t' + str(A_list[j][k]).replace('\\n', '\\n\\t\\t\\t'))"
   ]
  },
  {
   "cell_type": "code",
   "execution_count": null,
   "metadata": {
    "collapsed": true
   },
   "outputs": [],
   "source": []
  }
 ],
 "metadata": {
  "kernelspec": {
   "display_name": "Python 2",
   "language": "python",
   "name": "python2"
  },
  "language_info": {
   "codemirror_mode": {
    "name": "ipython",
    "version": 2
   },
   "file_extension": ".py",
   "mimetype": "text/x-python",
   "name": "python",
   "nbconvert_exporter": "python",
   "pygments_lexer": "ipython2",
   "version": "2.7.10"
  }
 },
 "nbformat": 4,
 "nbformat_minor": 1
}
