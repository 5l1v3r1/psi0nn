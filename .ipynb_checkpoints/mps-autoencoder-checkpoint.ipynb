{
 "cells": [
  {
   "cell_type": "markdown",
   "metadata": {},
   "source": [
    "# Try solving for GHZ Matrix Product State with an Autoencoder\n",
    "\n",
    "Sam Greydanus. March 2017. MIT License."
   ]
  },
  {
   "cell_type": "code",
   "execution_count": 1,
   "metadata": {
    "collapsed": true
   },
   "outputs": [],
   "source": [
    "import numpy as np\n",
    "import sys\n",
    "import tensorflow as tf\n",
    "\n",
    "import matplotlib.pyplot as plt\n",
    "%matplotlib inline"
   ]
  },
  {
   "cell_type": "code",
   "execution_count": 2,
   "metadata": {
    "collapsed": true
   },
   "outputs": [],
   "source": [
    "def to_base_n(x, n):\n",
    "    s = \"\"\n",
    "    while x:\n",
    "        s = str(x % n) + s ; x /= n\n",
    "    return '0' if s is '' else s\n",
    "\n",
    "def mps2state(A_list):\n",
    "    d = len(A_list) ; X = len(A_list[0])\n",
    "    c = []\n",
    "    for sys_state in range(d**X):\n",
    "        ix = to_base_n(sys_state, d)\n",
    "        ix = '0'*(len(A_list[0])-len(ix)) + ix\n",
    "        for site in range(X):\n",
    "            site_state = A_list[int(ix[site])][site]\n",
    "            prod = site_state if site is 0 else tf.matmul(prod, site_state)\n",
    "        c.append(tf.trace(prod))\n",
    "    return tf.stack(c)\n",
    "\n",
    "def coeff2mps(coeff, d, X):\n",
    "    splits = tf.split(coeff,d*X,axis=1)\n",
    "    dxd_splits = [tf.reshape(c, [d,d]) for c in splits]\n",
    "    A_list = [dxd_splits[d_i*X:(1+d_i)*X] for d_i in range(d)]\n",
    "    return A_list"
   ]
  },
  {
   "cell_type": "code",
   "execution_count": 3,
   "metadata": {
    "collapsed": true
   },
   "outputs": [],
   "source": [
    "lr = 3e-4\n",
    "batch_size = 1\n",
    "steps = 30000\n",
    "global_step = 0\n",
    "d = 2 ; chi = 4\n",
    "\n",
    "X_dim = d**chi\n",
    "h1_dim = 512\n",
    "h2_dim = d*chi*d*d\n",
    "init = tf.truncated_normal_initializer(stddev=0.1, dtype=tf.float32)\n",
    "\n",
    "params = {}\n",
    "params['W1'] = tf.get_variable(\"W1\", [X_dim, h1_dim], initializer=init)\n",
    "params['b1'] = tf.get_variable(\"b1\", [h1_dim], initializer=init)\n",
    "params['W2'] = tf.get_variable(\"W2\", [h1_dim, h2_dim], initializer=init)\n",
    "params['b2'] = tf.get_variable(\"b2\", [h2_dim], initializer=init)"
   ]
  },
  {
   "cell_type": "code",
   "execution_count": 4,
   "metadata": {
    "collapsed": false
   },
   "outputs": [],
   "source": [
    "def forward(X):\n",
    "    z1 = tf.matmul(X, params['W1']) + params['b1']\n",
    "    h1 = tf.nn.elu(z1)\n",
    "    z2 = tf.matmul(h1, params['W2']) + params['b2']\n",
    "    h2 = tf.nn.elu(z2)\n",
    "    coeff = tf.square(h2)\n",
    "    \n",
    "    A_list = coeff2mps(coeff, d, chi)\n",
    "    psi_hat = mps2state(A_list)\n",
    "    return psi_hat"
   ]
  },
  {
   "cell_type": "code",
   "execution_count": 5,
   "metadata": {
    "collapsed": false
   },
   "outputs": [],
   "source": [
    "X = tf.placeholder(tf.float32, [batch_size, X_dim])\n",
    "y = tf.placeholder(tf.float32, [batch_size, X_dim])\n",
    "y_hat = forward(X)\n",
    "loss = tf.nn.l2_loss( y - y_hat ) / X_dim * 1e4\n",
    "\n",
    "optimizer = tf.train.AdamOptimizer(lr)\n",
    "grads = optimizer.compute_gradients(loss, var_list=tf.trainable_variables())\n",
    "train_op = optimizer.apply_gradients(grads)\n",
    "\n",
    "sess = tf.InteractiveSession()\n",
    "tf.global_variables_initializer().run()"
   ]
  },
  {
   "cell_type": "code",
   "execution_count": 6,
   "metadata": {
    "collapsed": false
   },
   "outputs": [
    {
     "name": "stdout",
     "output_type": "stream",
     "text": [
      "Model overview:\n",
      "\tvariable \"W1:0\" has 8192 parameters\n",
      "\tvariable \"b1:0\" has 512 parameters\n",
      "\tvariable \"W2:0\" has 16384 parameters\n",
      "\tvariable \"b2:0\" has 32 parameters\n",
      "Total of 25120 parameters\n"
     ]
    }
   ],
   "source": [
    "def llprint(message):\n",
    "    sys.stdout.write(message)\n",
    "    sys.stdout.flush()\n",
    "    \n",
    "total_parameters = 0 ; print \"Model overview:\"\n",
    "for variable in tf.trainable_variables():\n",
    "    shape = variable.get_shape()\n",
    "    variable_parameters = 1\n",
    "    for dim in shape:\n",
    "        variable_parameters *= dim.value\n",
    "    print '\\tvariable \"{}\" has {} parameters' \\\n",
    "        .format(variable.name, variable_parameters)\n",
    "    total_parameters += variable_parameters\n",
    "print \"Total of {} parameters\".format(total_parameters)"
   ]
  },
  {
   "cell_type": "code",
   "execution_count": 7,
   "metadata": {
    "collapsed": false
   },
   "outputs": [
    {
     "name": "stdout",
     "output_type": "stream",
     "text": [
      "[[ 1.]]\n",
      "[[ 0.0187789   0.30596676  0.34318596  0.28125672  0.2151852   0.32002243\n",
      "   0.04848363  0.30302761  0.00617061  0.06284358  0.2393965   0.28703457\n",
      "   0.24069191  0.31386563  0.2945891   0.28167435]]\n"
     ]
    }
   ],
   "source": [
    "def next_batch(chi, d, batch_size):\n",
    "    psi = np.random.rand(batch_size, d**chi)\n",
    "    psi_squared = np.dot(psi, psi.T)\n",
    "#     psi_squared /= np.sum(psi_squared)\n",
    "    psi /= np.sum(psi_squared)**.5\n",
    "    return psi\n",
    "k = next_batch(chi, d, 1)\n",
    "print np.dot(k, k.T)\n",
    "print k"
   ]
  },
  {
   "cell_type": "code",
   "execution_count": 8,
   "metadata": {
    "collapsed": false
   },
   "outputs": [
    {
     "name": "stdout",
     "output_type": "stream",
     "text": [
      "Iteration 1000/30000\n",
      "\tloss: 58.5832\n",
      "Iteration 2000/30000\n",
      "\tloss: 26.6134\n",
      "Iteration 3000/30000\n",
      "\tloss: 24.9009\n",
      "Iteration 4000/30000\n",
      "\tloss: 25.6505\n",
      "Iteration 5000/30000\n",
      "\tloss: 24.5163\n",
      "Iteration 6000/30000\n",
      "\tloss: 25.0991\n",
      "Iteration 7000/30000\n",
      "\tloss: 24.3662\n",
      "Iteration 8000/30000\n",
      "\tloss: 23.9579\n",
      "Iteration 9000/30000\n",
      "\tloss: 24.1202\n",
      "Iteration 10000/30000\n",
      "\tloss: 23.4546\n",
      "Iteration 11000/30000\n",
      "\tloss: 23.2233\n",
      "Iteration 12000/30000\n",
      "\tloss: 23.5789\n",
      "Iteration 13000/30000\n",
      "\tloss: 24.5316\n",
      "Iteration 14000/30000\n",
      "\tloss: 23.5302\n",
      "Iteration 15000/30000\n",
      "\tloss: 23.6353\n",
      "Iteration 16000/30000\n",
      "\tloss: 23.5215\n",
      "Iteration 17000/30000\n",
      "\tloss: 22.9415\n",
      "Iteration 18000/30000\n",
      "\tloss: 23.4025\n",
      "Iteration 19000/30000\n",
      "\tloss: 23.1235\n",
      "Iteration 20000/30000\n",
      "\tloss: 23.0365\n",
      "Iteration 21000/30000\n",
      "\tloss: 23.6397\n",
      "Iteration 22000/30000\n",
      "\tloss: 24.0710\n",
      "Iteration 23000/30000\n",
      "\tloss: 23.3018\n",
      "Iteration 24000/30000\n",
      "\tloss: 23.0580\n",
      "Iteration 25000/30000\n",
      "\tloss: 23.4446\n",
      "Iteration 26000/30000\n",
      "\tloss: 22.9874\n",
      "Iteration 27000/30000\n",
      "\tloss: 23.2337\n",
      "Iteration 28000/30000\n",
      "\tloss: 23.5761\n",
      "Iteration 29000/30000\n",
      "\tloss: 23.2528\n",
      "Iteration 29999/30000"
     ]
    }
   ],
   "source": [
    "loss_history = []\n",
    "for i in xrange(global_step+1, steps):\n",
    "    llprint(\"\\rIteration {}/{}\".format(i, steps))\n",
    "\n",
    "    np_X = next_batch(chi, d, batch_size)\n",
    "\n",
    "    fetch = [loss, train_op]\n",
    "    feed = {X: np_X, y: np_X}\n",
    "\n",
    "    step_loss, _ = sess.run(fetch, feed_dict=feed)\n",
    "    loss_history.append(step_loss)\n",
    "    \n",
    "    global_step = i\n",
    "    if i % 1000 == 0:\n",
    "        llprint(\"\\n\\tloss: {:03.4f}\\n\".format(np.mean(loss_history)))\n",
    "        loss_history = []"
   ]
  },
  {
   "cell_type": "markdown",
   "metadata": {},
   "source": [
    "# Inspect autoencoded MPS"
   ]
  },
  {
   "cell_type": "code",
   "execution_count": 21,
   "metadata": {
    "collapsed": false
   },
   "outputs": [
    {
     "name": "stdout",
     "output_type": "stream",
     "text": [
      "[ 0.70710678  0.          0.          0.          0.          0.          0.\n",
      "  0.          0.          0.          0.          0.          0.          0.\n",
      "  0.          0.70710678]\n",
      "[ 0.83088607  0.08464631  0.05527117  0.05800864  0.08457473  0.00917228\n",
      "  0.03700913  0.03994685  0.06772011  0.06366933  0.01555461  0.10329884\n",
      "  0.05801809  0.06548025  0.10689225  0.71959662]\n"
     ]
    },
    {
     "data": {
      "image/png": "[encoded data removed]",
      "text/plain": [
       "<matplotlib.figure.Figure at 0x11253a310>"
      ]
     },
     "metadata": {},
     "output_type": "display_data"
    },
    {
     "data": {
      "image/png": "[encoded data removed]",
      "text/plain": [
       "<matplotlib.figure.Figure at 0x1123f4090>"
      ]
     },
     "metadata": {},
     "output_type": "display_data"
    }
   ],
   "source": [
    "k = np.zeros((1, d**chi))\n",
    "k[:,0] = np.sqrt(1/2.)\n",
    "k[:,-1] = np.sqrt(1/2.)\n",
    "\n",
    "feed = {X: k}\n",
    "k_hat = y_hat.eval(feed)\n",
    "print k.ravel()\n",
    "print k_hat.ravel()\n",
    "\n",
    "plt.figure(0) ; plt.imshow(k, interpolation='none') ; plt.title('true $\\psi$')\n",
    "plt.figure(1) ; plt.imshow(np.stack([k_hat]), interpolation='none') ; plt.title('MPS autoencoded $\\psi$')\n",
    "plt.show()"
   ]
  },
  {
   "cell_type": "code",
   "execution_count": 22,
   "metadata": {
    "collapsed": false
   },
   "outputs": [],
   "source": [
    "def get_mps(X):\n",
    "    z1 = tf.matmul(X, params['W1']) + params['b1']\n",
    "    h1 = tf.nn.elu(z1)\n",
    "    z2 = tf.matmul(h1, params['W2']) + params['b2']\n",
    "    h2 = tf.nn.elu(z2)\n",
    "    coeff = tf.square(h2)\n",
    "    \n",
    "    A_list = coeff2mps(coeff, d, chi)\n",
    "    return A_list"
   ]
  },
  {
   "cell_type": "code",
   "execution_count": 36,
   "metadata": {
    "collapsed": false
   },
   "outputs": [
    {
     "name": "stdout",
     "output_type": "stream",
     "text": [
      "[[ 0.00871934  0.001     ]\n",
      " [ 0.71209341  0.00353603]]\n"
     ]
    }
   ],
   "source": [
    "state = 0 # there are a total of d states\n",
    "site = 0 # there are a total of chi sites\n",
    "print np.clip(get_mps(X)[state][site].eval(feed), 1e-3, 1-1e-3)"
   ]
  }
 ],
 "metadata": {
  "kernelspec": {
   "display_name": "Python 2",
   "language": "python",
   "name": "python2"
  },
  "language_info": {
   "codemirror_mode": {
    "name": "ipython",
    "version": 2
   },
   "file_extension": ".py",
   "mimetype": "text/x-python",
   "name": "python",
   "nbconvert_exporter": "python",
   "pygments_lexer": "ipython2",
   "version": "2.7.10"
  }
 },
 "nbformat": 4,
 "nbformat_minor": 1
}
