{
 "cells": [
  {
   "cell_type": "code",
   "execution_count": 1,
   "metadata": {
    "collapsed": true
   },
   "outputs": [],
   "source": [
    "import numpy as np\n",
    "import copy\n",
    "from scipy.sparse import kron, identity\n",
    "from scipy.sparse.linalg import eigsh  # Lanczos routine from ARPACK\n",
    "\n",
    "import itertools as it\n",
    "\n",
    "import matplotlib.pyplot as plt\n",
    "%matplotlib inline"
   ]
  },
  {
   "cell_type": "code",
   "execution_count": 2,
   "metadata": {
    "collapsed": false
   },
   "outputs": [],
   "source": [
    "d = 2 # 2 states\n",
    "X = 3 # 3 sites\n",
    "A_list = [] # MPS list of coefficients\n",
    "\n",
    "# build GHZ 3-site MPS\n",
    "for state in range(d):\n",
    "    A_list.append([])\n",
    "    for site in range(X):\n",
    "        A = np.zeros((d,d)) ; A[state,state] = 1\n",
    "        A_list[state].append(A)"
   ]
  },
  {
   "cell_type": "code",
   "execution_count": 3,
   "metadata": {
    "collapsed": false
   },
   "outputs": [
    {
     "name": "stdout",
     "output_type": "stream",
     "text": [
      "[ 1.  0.  0.  0.  0.  0.  0.  1.]\n"
     ]
    }
   ],
   "source": [
    "def to_base_n(x, n):\n",
    "    s = \"\"\n",
    "    while x:\n",
    "        s = str(x % n) + s ; x /= n\n",
    "    return '0' if s is '' else s\n",
    "string = to_base_n(8,2)\n",
    "\n",
    "def mps2state(A_list, d, X):\n",
    "    c = np.zeros(d**X)\n",
    "    for sys_state in range(d**X):\n",
    "        ix = to_base_n(sys_state, d)\n",
    "        ix = '0'*(len(A_list[0])-len(ix)) + ix\n",
    "        for site in range(X):\n",
    "            site_state = A_list[int(ix[site])][site]\n",
    "            prod = site_state if site is 0 else np.dot(prod, site_state)\n",
    "        c[sys_state] = np.trace(prod)\n",
    "    return c\n",
    "psi = mps2state(A_list, d, X)\n",
    "print psi"
   ]
  },
  {
   "cell_type": "code",
   "execution_count": 10,
   "metadata": {
    "collapsed": false
   },
   "outputs": [
    {
     "name": "stdout",
     "output_type": "stream",
     "text": [
      "[[array([[ 1.,  0.],\n",
      "       [ 0.,  0.]]), array([[ 1.,  0.],\n",
      "       [ 0.,  0.]]), array([[ 1.,  0.],\n",
      "       [ 0.,  1.]])], [array([[ 0.,  0.],\n",
      "       [ 0.,  1.]]), array([[ 0.,  0.],\n",
      "       [ 1.,  0.]]), array([[ 0.,  1.],\n",
      "       [ 1.,  0.]])]]\n",
      "[ 1.  0.  0.  0.  0.  0.  0.  1.]\n"
     ]
    }
   ],
   "source": [
    "def state2mps(psi, d, X, A_list=None):\n",
    "    if A_list is None:\n",
    "        sd_reshape = np.reshape(psi,[d,-1])\n",
    "        g, l, p = np.linalg.svd(sd_reshape)\n",
    "        A_list = [[np.dot(g, np.diag(l[i]*np.eye(2)[i]))] for i in range(2)]\n",
    "        return state2mps(p, d, X, A_list=A_list)\n",
    "    else:\n",
    "        first_sd_reshape = np.reshape(psi[0],[d,-1])\n",
    "        g1, l1, p1 = np.linalg.svd(first_sd_reshape)\n",
    "        A_list[0].append(np.dot(g1, np.diag(l1[0]*np.eye(2)[0])))\n",
    "            \n",
    "        second_sd_reshape = np.reshape(psi[1],[d,-1])\n",
    "        g2, l2, p2 = np.linalg.svd(second_sd_reshape)\n",
    "        A_list[1].append(np.dot(g2, np.diag(l2[0]*np.eye(2)[0])))\n",
    "        \n",
    "        if p1.shape[1] is 2:\n",
    "            A_list[0].append(p1)\n",
    "            A_list[1].append(p2)\n",
    "            return A_list\n",
    "        else:\n",
    "            return state2mps(np.stack(p1[0], p2[0]), d, X, A_list = A_list)\n",
    "            \n",
    "Al = state2mps(psi, d, X)\n",
    "print Al\n",
    "print mps2state(Al, d, X)"
   ]
  },
  {
   "cell_type": "code",
   "execution_count": 4,
   "metadata": {
    "collapsed": false
   },
   "outputs": [],
   "source": [
    "sd_reshape = np.reshape(psi,[d,-1])\n",
    "gamma, lambdas, phi = np.linalg.svd(sd_reshape)"
   ]
  },
  {
   "cell_type": "code",
   "execution_count": 5,
   "metadata": {
    "collapsed": false
   },
   "outputs": [
    {
     "name": "stdout",
     "output_type": "stream",
     "text": [
      "[[ 1.  0.]\n",
      " [ 0.  1.]] \n",
      "\n",
      "[ 1.  1.] \n",
      "\n",
      "[[ 1.  0.  0.  0.]\n",
      " [ 0.  0.  0.  1.]] \n",
      "\n",
      "[ 1.  0.  0.  0.  0.  0.  0.  1.]\n"
     ]
    }
   ],
   "source": [
    "print gamma, '\\n'\n",
    "print lambdas, '\\n'\n",
    "phi = phi[:2,:]\n",
    "print phi, '\\n'\n",
    "\n",
    "psi = np.zeros(8)\n",
    "for k in range(2):\n",
    "    sys = np.dot(gamma,np.eye(2)[k])*lambdas[k]\n",
    "    psi += np.kron(sys, phi[k,:])\n",
    "print psi"
   ]
  },
  {
   "cell_type": "code",
   "execution_count": 6,
   "metadata": {
    "collapsed": false
   },
   "outputs": [
    {
     "name": "stdout",
     "output_type": "stream",
     "text": [
      "[[array([[ 1.,  0.],\n",
      "       [ 0.,  0.]])], [array([[ 0.,  0.],\n",
      "       [ 0.,  1.]])]]\n"
     ]
    }
   ],
   "source": [
    "A_list = [[np.dot(gamma, np.diag(lambdas[i]*np.eye(2)[i]))] for i in range(2)]\n",
    "print A_list"
   ]
  },
  {
   "cell_type": "code",
   "execution_count": 7,
   "metadata": {
    "collapsed": false
   },
   "outputs": [
    {
     "name": "stdout",
     "output_type": "stream",
     "text": [
      "[ 1.  0.  0.  0.]\n",
      "[[ 1.  0.]\n",
      " [ 0.  1.]] \n",
      "[ 1.  0.] \n",
      "[[ 1.  0.]\n",
      " [ 0.  1.]]\n",
      "[ 1.  0.  0.  0.]\n"
     ]
    }
   ],
   "source": [
    "phi_vec = phi[0]\n",
    "print phi_vec\n",
    "sd_reshape = np.reshape(phi_vec,[d,-1])\n",
    "g, l, p = np.linalg.svd(sd_reshape)\n",
    "\n",
    "print g, '\\n', l, '\\n', p\n",
    "\n",
    "psi = np.zeros(4)\n",
    "for k in range(2):\n",
    "    psi += l[k]*np.kron(np.dot(g,np.eye(2)[k]), p[k,:])\n",
    "print psi\n",
    "A_list[0].append(np.dot(g, np.diag(l[0]*np.eye(2)[0])))\n",
    "A_list[0].append(p)"
   ]
  },
  {
   "cell_type": "code",
   "execution_count": 8,
   "metadata": {
    "collapsed": false
   },
   "outputs": [
    {
     "name": "stdout",
     "output_type": "stream",
     "text": [
      "[ 0.  0.  0.  1.]\n",
      "[[ 0.  1.]\n",
      " [ 1.  0.]] \n",
      "[ 1.  0.] \n",
      "[[ 0.  1.]\n",
      " [ 1.  0.]]\n",
      "[ 0.  0.  0.  1.]\n"
     ]
    }
   ],
   "source": [
    "phi_vec = phi[1]\n",
    "print phi_vec\n",
    "sd_reshape = np.reshape(phi_vec,[d,-1])\n",
    "g, l, p = np.linalg.svd(sd_reshape)\n",
    "\n",
    "print g, '\\n', l, '\\n', p\n",
    "\n",
    "psi = np.zeros(4)\n",
    "for k in range(2):\n",
    "    psi += l[k]*np.kron(np.dot(g,np.eye(2)[k]), p[k,:])\n",
    "print psi\n",
    "A_list[1].append(np.dot(g, np.diag(l[0]*np.eye(2)[0])))\n",
    "A_list[1].append(p)"
   ]
  },
  {
   "cell_type": "code",
   "execution_count": 18,
   "metadata": {
    "collapsed": false
   },
   "outputs": [
    {
     "name": "stdout",
     "output_type": "stream",
     "text": [
      "[[ 0.  1.]\n",
      " [ 1.  0.]]\n"
     ]
    }
   ],
   "source": [
    "print A_list[1][2]"
   ]
  },
  {
   "cell_type": "code",
   "execution_count": 9,
   "metadata": {
    "collapsed": false
   },
   "outputs": [
    {
     "name": "stdout",
     "output_type": "stream",
     "text": [
      "[ 1.  0.  0.  0.  0.  0.  0.  1.]\n"
     ]
    }
   ],
   "source": [
    "print mps2state(A_list, d, X)"
   ]
  }
 ],
 "metadata": {
  "kernelspec": {
   "display_name": "Python 2",
   "language": "python",
   "name": "python2"
  },
  "language_info": {
   "codemirror_mode": {
    "name": "ipython",
    "version": 2
   },
   "file_extension": ".py",
   "mimetype": "text/x-python",
   "name": "python",
   "nbconvert_exporter": "python",
   "pygments_lexer": "ipython2",
   "version": "2.7.10"
  }
 },
 "nbformat": 4,
 "nbformat_minor": 1
}
