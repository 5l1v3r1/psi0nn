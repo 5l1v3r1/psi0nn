{
 "cells": [
  {
   "cell_type": "markdown",
   "metadata": {},
   "source": [
    "# Simple NN for estimating ground state, $\\psi_0$, from $H_{sys}$ coupling terms for a large system ($N>20$)\n",
    "Sam Greydanus. 24 May 2017. MIT License."
   ]
  },
  {
   "cell_type": "code",
   "execution_count": 3,
   "metadata": {
    "collapsed": true
   },
   "outputs": [],
   "source": [
    "% matplotlib inline\n",
    "import torch\n",
    "import torch.nn as nn\n",
    "import torch.nn.functional as F\n",
    "from torch.autograd import Variable\n",
    "\n",
    "import numpy as np\n",
    "import matplotlib.pyplot as plt\n",
    "from matplotlib.pyplot import *\n",
    "import os, copy, glob\n",
    "from scipy.sparse.linalg import eigsh\n",
    "from scipy.sparse import kron, identity\n",
    "\n",
    "np.random.seed(seed=123) # for reproducibility\n",
    "ms = torch.manual_seed(123) # for reproducibility"
   ]
  },
  {
   "cell_type": "markdown",
   "metadata": {},
   "source": [
    "## Hyperparameters"
   ]
  },
  {
   "cell_type": "code",
   "execution_count": 4,
   "metadata": {
    "collapsed": true
   },
   "outputs": [],
   "source": [
    "lr = 3e-4\n",
    "global_step = 0\n",
    "print_every = 100\n",
    "save_dir = 'big-psi0-models'\n",
    "checkpoint_steps = [1, 10,30,100,300,1000,3000,10000,30000,100000,300000]\n",
    "checkpoint_steps += [250, 500, 1000, 2000, 4000, 16000, 64000, 128000]\n",
    "total_steps = max(checkpoint_steps)\n",
    "d = 2\n",
    "N = 4\n",
    "D_side = d**N\n",
    "D_img = D_side**2\n",
    "D_hidden = 512\n",
    "batch_size = 16\n",
    "num_couplings = 6"
   ]
  },
  {
   "cell_type": "markdown",
   "metadata": {},
   "source": [
    "## Dataloader\n",
    "Use the same free site as we've been using for DMRG runs. Change the coupling constants `J` and `Jz` randomly, try to estimate change in energy"
   ]
  },
  {
   "cell_type": "code",
   "execution_count": 20,
   "metadata": {
    "collapsed": true
   },
   "outputs": [],
   "source": [
    "sym = lambda M: M + M.T\n",
    "local_op = lambda d: sym(np.random.randn(d,d))\n",
    "class FreeSite():\n",
    "    def __init__(self, c, rand=False):\n",
    "        self.length = 1 # length\n",
    "        self.ops = ops = {}\n",
    "        J = c['J'] if 'J' in c.keys() else np.random.randn()\n",
    "        Jz = c['Jz'] if 'Jz' in c.keys() else np.random.randn()\n",
    "        alpha1 = c['alpha1'] if 'alpha1' in c.keys() else np.random.randn()\n",
    "        alpha2 = c['alpha2'] if 'alpha2' in c.keys() else np.random.randn()\n",
    "        beta = c['beta'] if 'beta' in c.keys() else np.random.randn()\n",
    "        gamma = c['gamma'] if 'gamma' in c.keys() else np.random.randn()\n",
    "        \n",
    "        self.c = c = {'J':J, 'Jz':Jz, 'alpha1':alpha1, 'alpha2':alpha2, \\\n",
    "                          'beta':beta, 'gamma':gamma}\n",
    "        self.all_couplings = list(c.values())\n",
    "        \n",
    "        # build operator dictionary\n",
    "        ops[\"H\"] = np.zeros((2,2)) # local fields are 0\n",
    "        ops[\"Sxz\"] = np.array([[0.5, 0], [0, -0.5]]) # z spin (S^z) operator\n",
    "        ops[\"Sp\"] = np.array([[0.0, 1.0], [0.0, 0.0]]) # raising (S^+) operator\n",
    "        \n",
    "        if rand:\n",
    "            ops[\"Sxz\"] = np.array([[c['alpha1'], 0], [0, -c['alpha2']]]) + \\\n",
    "                    np.array([[0, c['beta']], [c['beta'], 0]])\n",
    "            ops[\"Sp\"] *= c['gamma']\n",
    "    \n",
    "    def get_dim(self):\n",
    "        return list(self.ops.values())[0].shape[0] # all ops should have same dimensionality\n",
    "        \n",
    "    def enlarge(self, site):\n",
    "        '''Enlarge block by a single site'''\n",
    "        \n",
    "        D1, H1, Sxz1, Sp1 = self.get_dim(), self.ops['H'], self.ops['Sxz'], self.ops['Sp'] # this block\n",
    "        D2, H2, Sxz2, Sp2 = site.get_dim(), site.ops['H'], site.ops['Sxz'], site.ops['Sp'] # another block (ie free site)\n",
    "\n",
    "        enlarged = copy.deepcopy(self)\n",
    "        enlarged.length += site.length\n",
    "        enlarged.all_couplings += site.all_couplings\n",
    "        ops = enlarged.ops\n",
    "\n",
    "        ops['H'] = kron(H1, identity(D2)) + kron(identity(D1), H2) + self.interaction_H(site)\n",
    "        ops['Sxz'] = kron(identity(D1), Sxz2)\n",
    "        ops['Sp'] = kron(identity(D1), Sp2)\n",
    "\n",
    "        return enlarged\n",
    "    \n",
    "    def interaction_H(self, site):\n",
    "        '''Given another block, returns two-site term in the \n",
    "        Hamiltonain that joins the two sites.'''\n",
    "        Sxz1, Sp1 = self.ops[\"Sxz\"], self.ops[\"Sp\"] # this block\n",
    "        Sxz2, Sp2 = site.ops[\"Sxz\"], site.ops[\"Sp\"] # other block\n",
    "        \n",
    "        join_Sp = (self.c['J']/2)*(kron(Sp1, Sp2.conjugate().transpose()) + kron(Sp1.conjugate().transpose(), Sp2))\n",
    "        join_Sxz = self.c['Jz']*kron(Sxz1, Sxz2)\n",
    "        return (join_Sp + join_Sxz)\n",
    "    \n",
    "    def rotate_ops(self, transformation_matrix):\n",
    "        # rotate and truncate each operator.\n",
    "        new_ops = {}\n",
    "        for name, op in self.ops.items():\n",
    "            new_ops[name] = self.rotate_and_truncate(op, transformation_matrix)\n",
    "        self.ops = new_ops\n",
    "    \n",
    "    @staticmethod\n",
    "    def rotate_and_truncate(S, O):\n",
    "        '''Transforms the operator to a new (possibly truncated) basis'''\n",
    "        return O.conjugate().transpose().dot(S.dot(O)) # eqn 7 in arXiv:cond-mat/0603842v2"
   ]
  },
  {
   "cell_type": "code",
   "execution_count": 21,
   "metadata": {
    "collapsed": true
   },
   "outputs": [],
   "source": [
    "def ham(c, rand=False):\n",
    "    sys = FreeSite(c, rand=rand)\n",
    "    for _ in range(N-1):\n",
    "        fs = FreeSite(c, rand=rand)\n",
    "        sys = sys.enlarge(fs)\n",
    "    return sys.all_couplings, sys.ops['H'].todense()\n",
    "\n",
    "def next_batch(D, batch_size, just_ground=True):\n",
    "    couplings = {'alpha1':1, 'alpha2':1, 'beta':1, 'gamma':1}\n",
    "    c_list = [] ; H_list = [] ; e0_list = [] ; psi0_list = []\n",
    "    e1_list = [] ; psi1_list = [] ; e2_list = [] ; psi2_list = []\n",
    "    for _ in range(batch_size):\n",
    "        c, H = ham(couplings, rand=True)\n",
    "        e0, psi0 = eigsh(H,k=3, which=\"SA\")\n",
    "        c_list.append(c) ; H_list.append(np.asarray(H).ravel()) ; e0_list.append(e0[0].ravel()) ; psi0_list.append(psi0[:,0].ravel())\n",
    "        if not just_ground:\n",
    "            e1_list.append(e0[1].ravel()) ; psi1_list.append(psi0[:,1].ravel())\n",
    "            e2_list.append(e0[2].ravel()) ; psi2_list.append(psi0[:,2].ravel())\n",
    "    out = (np.vstack(c_list), np.vstack(H_list), np.vstack(e0_list), np.vstack(psi0_list))\n",
    "    if not just_ground:\n",
    "        extras = (np.vstack(e1_list), np.vstack(psi1_list), np.vstack(e2_list), np.vstack(psi2_list))\n",
    "    out = out if just_ground else out + extras\n",
    "    return out\n",
    "\n",
    "def rand_psi(D_side):\n",
    "    psi = np.random.rand(1, D_side)\n",
    "    psi /= np.sqrt(np.dot(psi, psi.T))\n",
    "    return psi"
   ]
  },
  {
   "cell_type": "markdown",
   "metadata": {},
   "source": [
    "$$E_{0_i}:= \\sum_{s_i,s_i'=1}^{d} \\langle s_i' \\vert O_i \\vert s_i \\rangle \\left( A[i]^{s_i} \\otimes (A[i]^{s_i'})^* \\right)$$"
   ]
  },
  {
   "cell_type": "code",
   "execution_count": 154,
   "metadata": {},
   "outputs": [
    {
     "name": "stdout",
     "output_type": "stream",
     "text": [
      "full sys e0: -1.0565\n"
     ]
    }
   ],
   "source": [
    "np.random.seed(seed=123)\n",
    "coup = {'alpha1':1, 'alpha2':1, 'beta':1, 'gamma':1}\n",
    "a = FreeSite(coup)\n",
    "b = FreeSite(coup)\n",
    "c = FreeSite(coup)\n",
    "sites = [a,b,c]\n",
    "\n",
    "for i, s in enumerate(sites):\n",
    "    sys = s if i is 0 else sys.enlarge(s)\n",
    "(e0,), psi0 = eigsh(sys.ops['H'],k=1, which=\"SA\")\n",
    "print(\"full sys e0: {:.4f}\".format(e0))"
   ]
  },
  {
   "cell_type": "code",
   "execution_count": 155,
   "metadata": {},
   "outputs": [],
   "source": [
    "# construct the ideal MPS for the GHZ state\n",
    "A_list = [] # MPS list of coefficients\n",
    "for state in range(d):\n",
    "    A_list.append([])\n",
    "    for site in range(len(sites)):\n",
    "        A = np.zeros((d,d)) ; A[state,state] = 1\n",
    "        A_list[state].append(A)"
   ]
  },
  {
   "cell_type": "code",
   "execution_count": 164,
   "metadata": {},
   "outputs": [
    {
     "data": {
      "text/plain": [
       "array([[ 0.],\n",
       "       [ 0.]])"
      ]
     },
     "execution_count": 164,
     "metadata": {},
     "output_type": "execute_result"
    }
   ],
   "source": [
    "D = sites[0].get_dim()**2\n"
   ]
  },
  {
   "cell_type": "code",
   "execution_count": 181,
   "metadata": {},
   "outputs": [
    {
     "name": "stdout",
     "output_type": "stream",
     "text": [
      "[[ 0.24933636]]\n",
      "0\n",
      "[[-0.24933636]]\n",
      "1\n",
      "[[-0.24933636]]\n",
      "1\n",
      "[[ 0.24933636]]\n",
      "1\n",
      "[[-0.37657368]]\n",
      "1\n",
      "[[ 0.37657368]]\n",
      "2\n",
      "[[ 0.37657368]]\n",
      "2\n",
      "[[-0.37657368]]\n",
      "2\n",
      "[[ 0.]]\n"
     ]
    }
   ],
   "source": [
    "e_tot = 0\n",
    "D = sites[0].get_dim()**2\n",
    "Ts = []\n",
    "for pair_i in range(len(sites)-1):\n",
    "    a = sites[pair_i]\n",
    "    b = sites[pair_i+1]\n",
    "    for s_a in range(a.get_dim()):\n",
    "        for s_b in range(b.get_dim()):\n",
    "            state_a = np.zeros((a.get_dim(),1)) ; state_a[s_a] = 1\n",
    "            state_b = np.zeros((b.get_dim(),1)) ; state_b[s_b] = 1\n",
    "            state_ab = kron(state_a,state_b).toarray()\n",
    "\n",
    "            H = a.interaction_H(b).toarray()\n",
    "            e = state_ab.T.dot(H).dot(state_ab)\n",
    "            print(e)\n",
    "            print(len(Ts))\n",
    "            AA = e[0,0]*kron(A_list[s_a][0], A_list[s_b][1]).toarray()\n",
    "#             print(s_a+s_b) ; print(Ts)\n",
    "            if (s_a+s_b) is 0:\n",
    "                Ts.append(AA)\n",
    "            else:\n",
    "                Ts[-1] = Ts[-1] + AA\n",
    "            e_tot += e\n",
    "print(e_tot)"
   ]
  },
  {
   "cell_type": "code",
   "execution_count": 185,
   "metadata": {},
   "outputs": [
    {
     "data": {
      "text/plain": [
       "array([[-0.09389351,  0.        ,  0.        ,  0.        ],\n",
       "       [ 0.        , -0.09389351,  0.        ,  0.        ],\n",
       "       [ 0.        ,  0.        , -0.09389351,  0.        ],\n",
       "       [ 0.        ,  0.        ,  0.        , -0.09389351]])"
      ]
     },
     "execution_count": 185,
     "metadata": {},
     "output_type": "execute_result"
    }
   ],
   "source": [
    "Ts[0].dot(Ts[1])"
   ]
  },
  {
   "cell_type": "code",
   "execution_count": 84,
   "metadata": {},
   "outputs": [],
   "source": [
    "H = a.interaction_H(b)\n",
    "H.toarray()\n",
    "\n",
    "s_big = kron(np.ones((2,1)),state_a)"
   ]
  },
  {
   "cell_type": "code",
   "execution_count": 101,
   "metadata": {},
   "outputs": [
    {
     "data": {
      "text/plain": [
       "(numpy.ndarray, numpy.ndarray, scipy.sparse.bsr.bsr_matrix)"
      ]
     },
     "execution_count": 101,
     "metadata": {},
     "output_type": "execute_result"
    }
   ],
   "source": [
    "type(psi0), type(state_b), type(state_a)"
   ]
  },
  {
   "cell_type": "code",
   "execution_count": 86,
   "metadata": {},
   "outputs": [
    {
     "data": {
      "text/plain": [
       "((4, 1), array([[ 1.],\n",
       "        [ 0.],\n",
       "        [ 1.],\n",
       "        [ 0.]]))"
      ]
     },
     "execution_count": 86,
     "metadata": {},
     "output_type": "execute_result"
    }
   ],
   "source": [
    "psi0.shape, state_b.toarray()"
   ]
  },
  {
   "cell_type": "code",
   "execution_count": 20,
   "metadata": {},
   "outputs": [
    {
     "name": "stdout",
     "output_type": "stream",
     "text": [
      "[[-2.7944723  -1.03910438  1.          1.          1.          1.\n",
      "  -2.16940796 -0.03560548  1.          1.          1.          1.\n",
      "  -2.23641735 -1.09427342  1.          1.          1.          1.          2.332062\n",
      "   0.34512424  1.          1.          1.          1.        ]] (1, 24)\n"
     ]
    },
    {
     "data": {
      "image/png": "[encoded data removed]",
      "text/plain": [
       "<matplotlib.figure.Figure at 0x10a1f6c18>"
      ]
     },
     "metadata": {},
     "output_type": "display_data"
    }
   ],
   "source": [
    "# plot data\n",
    "f1 = plt.figure(figsize=[12,6])\n",
    "\n",
    "f1.text(0.5, .92, 'Example training Hamiltonians', ha='center', va='center', fontsize=18)\n",
    "v = 2\n",
    "h = 4\n",
    "c, H, e0, psi0 = next_batch(D_side, batch_size=batch_size)\n",
    "sd, mn = np.std(H), np.mean(H)\n",
    "cl = [mn-3*sd,mn+3*sd]\n",
    "\n",
    "for i in range(v):\n",
    "    for j in range(h):\n",
    "        plot_ix = i*h + j\n",
    "        curr_plot = v*100 + h*10 + plot_ix+1\n",
    "\n",
    "        plt.subplot(curr_plot)\n",
    "        plt.gca().axes.get_xaxis().set_visible(False)\n",
    "        plt.gca().axes.get_yaxis().set_visible(False)\n",
    "        c, H, e0, psi0 = next_batch(D_side, batch_size=1)\n",
    "        im = plt.imshow(np.reshape(H,[D_side,D_side]))\n",
    "        plt.clim(*cl)\n",
    "        \n",
    "cax = f1.add_axes([0.92, 0.15, 0.02, 0.7])\n",
    "cb = f1.colorbar(im, cax=cax, orientation='vertical')\n",
    "cb.set_label('color scale')\n",
    "print(c, c.shape)\n",
    "    \n",
    "plt.show() #; f1.savefig('./figures/tph-training-psi0.pdf', bbox_inches='tight')"
   ]
  },
  {
   "cell_type": "markdown",
   "metadata": {},
   "source": [
    "## Build a simple NN model"
   ]
  },
  {
   "cell_type": "code",
   "execution_count": 21,
   "metadata": {
    "collapsed": true
   },
   "outputs": [],
   "source": [
    "# a neural network with three hidden layers\n",
    "def dot_norm(u):\n",
    "    m, n = u.size()\n",
    "    d = u.mm(u.t())\n",
    "    div_by = torch.sqrt(torch.diag(d))\n",
    "    v = u / div_by.resize(m, 1).repeat(1,n)\n",
    "    return v\n",
    "\n",
    "class SimpleNN3(torch.nn.Module):\n",
    "    def __init__(self, batch_size, input_dim, h_dim, output_dim):\n",
    "        super(SimpleNN3, self).__init__()\n",
    "        self.input_dim = input_dim\n",
    "        self.W1 = nn.Parameter(torch.randn(input_dim, h_dim)*0.075)\n",
    "        self.b1 = nn.Parameter(torch.randn(h_dim)*0.075)\n",
    "        self.W2 = nn.Parameter(torch.randn(h_dim, h_dim)*0.075)\n",
    "        self.b2 = nn.Parameter(torch.randn(h_dim)*0.075)\n",
    "        self.W3 = nn.Parameter(torch.randn(h_dim, output_dim)*0.075)\n",
    "        self.b3 = nn.Parameter(torch.randn(output_dim)*0.075)\n",
    "        self.arch = 'SimpleNN3'\n",
    "\n",
    "    def forward(self, X, batch_size):\n",
    "        X = X.resize(batch_size, self.input_dim)\n",
    "        h1 = F.relu(X.mm(self.W1) + self.b1.repeat(X.size(0), 1))\n",
    "        h2 = F.relu(h1.mm(self.W2) + self.b2.repeat(X.size(0), 1))\n",
    "        h3 = h2.mm(self.W3) + self.b3.repeat(X.size(0), 1)\n",
    "        h3 = dot_norm(h3)\n",
    "        return h3\n",
    "    \n",
    "model = SimpleNN3(batch_size=1, input_dim=N*num_couplings, h_dim=D_hidden, output_dim=D_side)"
   ]
  },
  {
   "cell_type": "code",
   "execution_count": 22,
   "metadata": {
    "collapsed": true
   },
   "outputs": [],
   "source": [
    "# global_step = 0\n",
    "# load_was_success = True # yes, I'm being optimistic\n",
    "# model_zoo = []\n",
    "# paths = glob.glob(save_dir + '/*.tar')\n",
    "# try:\n",
    "#     for s in paths:\n",
    "#         checkpoint = torch.load(s)\n",
    "#         model.load_state_dict(checkpoint['state_dict'])\n",
    "#         global_step = checkpoint['global_step']\n",
    "#         model_zoo.append((global_step, copy.deepcopy(model)))\n",
    "#         print(\"loaded model: {}\".format(s))\n",
    "#     model_zoo = sorted(model_zoo, key=lambda tup: tup[0])\n",
    "#     global_step, model = model_zoo[-1]\n",
    "# except:\n",
    "#     print(\"no saved model to load.\") ; model_zoo = []\n",
    "#     load_was_success = False\n",
    "# else:\n",
    "#     if len(paths) is 0: print(\"no saved model to load.\")"
   ]
  },
  {
   "cell_type": "markdown",
   "metadata": {},
   "source": [
    "## Train model to estimate ground state energies\n",
    "Takes ~30 min to train on my MacBook"
   ]
  },
  {
   "cell_type": "code",
   "execution_count": 23,
   "metadata": {
    "collapsed": true
   },
   "outputs": [],
   "source": [
    "def energy_func(psi, H, batch_size):\n",
    "    psi = psi.resize(batch_size,1,D_side)\n",
    "    H = H.resize(batch_size,D_side,D_side)\n",
    "    e0_hat = psi.bmm(H).bmm(torch.transpose(psi, 2,1))\n",
    "    return e0_hat\n",
    "\n",
    "def cost_func(e, psi, H, batch_size):\n",
    "    e = e.resize(batch_size,1,1)\n",
    "    e0_hat = energy_func(psi, H, batch_size)\n",
    "    return .5*torch.sum((e0_hat-e)**2) / batch_size"
   ]
  },
  {
   "cell_type": "code",
   "execution_count": null,
   "metadata": {},
   "outputs": [
    {
     "name": "stdout",
     "output_type": "stream",
     "text": [
      "step 0: loss: 23.8897\n",
      "\tstep 1: saved model\n",
      "\tstep 10: saved model\n",
      "\tstep 30: saved model\n"
     ]
    }
   ],
   "source": [
    "optimizer = torch.optim.Adam(model.parameters(), lr=lr)\n",
    "running_loss = None\n",
    "model_zoo = []\n",
    "# generic train loop\n",
    "for global_step in range(global_step, total_steps+global_step+1):\n",
    "    \n",
    "    # ======== DISCRIMINATOR STEP ======== #\n",
    "    # forward\n",
    "    np_c, np_H, np_e0, np_psi0 = next_batch(D_side, batch_size)\n",
    "    real_c = Variable(torch.Tensor(np_c))\n",
    "    real_H = Variable(torch.Tensor(np_H))\n",
    "    real_e0 = Variable(torch.Tensor(np_e0))\n",
    "    real_psi0 = Variable(torch.Tensor(np_psi0))\n",
    "    \n",
    "    psi0_hat = model(real_c, batch_size) \n",
    "\n",
    "    # backward\n",
    "    loss = cost_func(real_e0, psi0_hat, real_H, batch_size)\n",
    "    loss.backward()\n",
    "    optimizer.step()\n",
    "    optimizer.zero_grad()\n",
    "    \n",
    "    running_loss = loss.data.numpy()[0] if running_loss is None else .99*running_loss + (1-.99)*loss.data.numpy()[0]\n",
    "\n",
    "    # ======== DISPLAY PROGRESS ======== #\n",
    "    if global_step % print_every == 0:\n",
    "        print('step {}: loss: {:.4f}'.format(global_step, running_loss))\n",
    "    if global_step in checkpoint_steps:\n",
    "        print('\\tstep {}: saved model'.format(global_step))\n",
    "        torch.save({'state_dict': model.state_dict(),\n",
    "                   'global_step': global_step}\n",
    "                   , save_dir + '/model.{}.tar'.format(global_step))\n",
    "# mean loss of an untrained model is ~21"
   ]
  },
  {
   "cell_type": "code",
   "execution_count": 11,
   "metadata": {},
   "outputs": [
    {
     "name": "stdout",
     "output_type": "stream",
     "text": [
      "loaded model: couplings2psi0-models/model.1.tar\n",
      "loaded model: couplings2psi0-models/model.10.tar\n",
      "loaded model: couplings2psi0-models/model.100.tar\n",
      "loaded model: couplings2psi0-models/model.1000.tar\n",
      "loaded model: couplings2psi0-models/model.10000.tar\n",
      "loaded model: couplings2psi0-models/model.16000.tar\n",
      "loaded model: couplings2psi0-models/model.2000.tar\n",
      "loaded model: couplings2psi0-models/model.250.tar\n",
      "loaded model: couplings2psi0-models/model.30.tar\n",
      "loaded model: couplings2psi0-models/model.300.tar\n",
      "loaded model: couplings2psi0-models/model.3000.tar\n",
      "loaded model: couplings2psi0-models/model.30000.tar\n",
      "loaded model: couplings2psi0-models/model.37672.tar\n",
      "loaded model: couplings2psi0-models/model.4000.tar\n",
      "loaded model: couplings2psi0-models/model.500.tar\n",
      "using model from step 37672\n"
     ]
    }
   ],
   "source": [
    "global_step = 0\n",
    "load_was_success = True # yes, I'm being optimistic\n",
    "model_zoo = []\n",
    "paths = glob.glob(save_dir + '/*.tar')\n",
    "\n",
    "try:\n",
    "    for s in paths:\n",
    "        checkpoint = torch.load(s)\n",
    "        model.load_state_dict(checkpoint['state_dict'])\n",
    "        global_step = checkpoint['global_step']\n",
    "        model_zoo.append((global_step, copy.deepcopy(model)))\n",
    "        print(\"loaded model: {}\".format(s))\n",
    "    model_zoo = sorted(model_zoo, key=lambda tup: tup[0])\n",
    "    global_step, model = model_zoo[-1]\n",
    "    print(\"using model from step {}\".format(global_step))\n",
    "except:\n",
    "    print(\"no saved model to load.\") ; model_zoo = []\n",
    "    load_was_success = False\n",
    "else:\n",
    "    if len(paths) is 0: print(\"no saved model to load.\")"
   ]
  },
  {
   "cell_type": "code",
   "execution_count": 19,
   "metadata": {},
   "outputs": [
    {
     "name": "stdout",
     "output_type": "stream",
     "text": [
      "[-0.51176077965646982, 0.4870136296376586]\n"
     ]
    },
    {
     "data": {
      "image/png": "[encoded data removed]",
      "text/plain": [
       "<matplotlib.figure.Figure at 0x10a7d65f8>"
      ]
     },
     "metadata": {},
     "output_type": "display_data"
    }
   ],
   "source": [
    "b = 1\n",
    "np_c, np_H, np_e0, np_psi0 = next_batch(D_side, batch_size=b)\n",
    "real_c = Variable(torch.Tensor(np_c))\n",
    "real_H = Variable(torch.Tensor(np_H))\n",
    "real_e0 = Variable(torch.Tensor(np_e0))\n",
    "real_psi0 = Variable(torch.Tensor(np_psi0))\n",
    "psi0_hat = model(real_c, batch_size=b) \n",
    "\n",
    "np_real_psi0 = real_psi0.data.numpy()\n",
    "np_psi0_hat = psi0_hat.data.numpy()\n",
    "\n",
    "sd, mn = np.std(np_real_psi0), np.mean(np_real_psi0)\n",
    "cl = [mn-2*sd,mn+2*sd]\n",
    "use_cl = True\n",
    "if use_cl: print(cl)\n",
    "\n",
    "f2 = plt.figure(figsize=[8,3])\n",
    "plt.subplot(211)\n",
    "plt.imshow(np_real_psi0) ; plt.title('exact $\\psi_0$')\n",
    "if use_cl: plt.clim(*cl)\n",
    "plt.subplot(212)\n",
    "im = plt.imshow(np_psi0_hat) ; plt.title('low-energy estimate $\\hat \\psi_{NN}$')\n",
    "if use_cl: plt.clim(*cl)\n",
    "\n",
    "cax = f2.add_axes([0.95, 0.15, 0.02, 0.7])\n",
    "cb = f2.colorbar(im, cax=cax, orientation='vertical')\n",
    "cb.set_label('color scale')\n",
    "\n",
    "plt.show() #; f2.savefig('./figures/H2psi0.pdf', bbox_inches='tight')"
   ]
  },
  {
   "cell_type": "markdown",
   "metadata": {},
   "source": [
    "## Measure error"
   ]
  },
  {
   "cell_type": "code",
   "execution_count": 23,
   "metadata": {},
   "outputs": [
    {
     "name": "stdout",
     "output_type": "stream",
     "text": [
      "psi0_e: -2.7708 / e0_e: -2.7708\n",
      "psi1_e: -2.1704 / e1_e: -2.1704\n",
      "psi2_e: -1.7225 / e2_e: -1.7225\n",
      "hat psi0_e: -2.0703\n",
      "rand psi_e: 2.8301\n",
      "\n",
      "mean err nn  : 0.7006\n",
      "mean err rand: 2.8301\n",
      "\n",
      "mean err nn  : 25.2843%\n",
      "mean err rand: 102.1380%\n"
     ]
    }
   ],
   "source": [
    "b=500\n",
    "\n",
    "np_c, np_H, np_e0, np_psi0, np_e1, np_psi1, np_e2, np_psi2 = next_batch(D_side, batch_size=b, just_ground=False)\n",
    "real_c = Variable(torch.Tensor(np_c))\n",
    "real_H = Variable(torch.Tensor(np_H))\n",
    "real_e0 = Variable(torch.Tensor(np_e0))\n",
    "real_psi0 = Variable(torch.Tensor(np_psi0))\n",
    "real_e1 = Variable(torch.Tensor(np_e1))\n",
    "real_psi1 = Variable(torch.Tensor(np_psi1))\n",
    "real_e2 = Variable(torch.Tensor(np_e2))\n",
    "real_psi2 = Variable(torch.Tensor(np_psi2))\n",
    "psi0_hat = model(real_c, batch_size=b) \n",
    "\n",
    "psis = []\n",
    "for _ in range(b):\n",
    "    psis.append(rand_psi(D_side))\n",
    "rand_psis = Variable(torch.Tensor(np.vstack(psis)))\n",
    "\n",
    "psi0_e = energy_func(real_psi0, real_H, batch_size=b).data.numpy()\n",
    "psi1_e = energy_func(real_psi1, real_H, batch_size=b).data.numpy()\n",
    "psi2_e = energy_func(real_psi2, real_H, batch_size=b).data.numpy()\n",
    "e0_e = real_e0.data.numpy()\n",
    "e1_e = real_e1.data.numpy()\n",
    "e2_e = real_e2.data.numpy()\n",
    "psi0_hat_e = energy_func(psi0_hat, real_H, batch_size=b).data.numpy()\n",
    "rpsi_e = energy_func(rand_psis, real_H, batch_size=b).data.numpy()\n",
    "\n",
    "nn_e = np.mean(psi0_hat_e)\n",
    "mean_rpsi_e = np.mean(rpsi_e)\n",
    "\n",
    "mean_psi0_hat_e = np.mean(psi0_hat_e.ravel())\n",
    "mean_err_rand = np.mean(rpsi_e.ravel())\n",
    "\n",
    "mean_err_nn = np.mean(np.abs(e0_e.ravel() - psi0_hat_e.ravel()))\n",
    "mean_err_rand = np.mean(np.abs(e0_e.ravel() - rpsi_e.ravel()))\n",
    "\n",
    "mpe_nn = mean_err_nn / np.mean(np.abs(e0_e)) * 100\n",
    "mpe_rand = mean_err_rand / np.mean(np.abs(e0_e)) * 100\n",
    "\n",
    "print(\"psi0_e: {:.4f} / e0_e: {:.4f}\".format(np.mean(psi0_e), np.mean(e0_e)))\n",
    "print(\"psi1_e: {:.4f} / e1_e: {:.4f}\".format(np.mean(psi1_e), np.mean(e1_e)))\n",
    "print(\"psi2_e: {:.4f} / e2_e: {:.4f}\".format(np.mean(psi2_e), np.mean(e2_e)))\n",
    "print(\"hat psi0_e: {:.4f}\".format(mean_psi0_hat_e))\n",
    "print(\"rand psi_e: {:.4f}\\n\".format(mean_err_rand))\n",
    "\n",
    "print(\"mean err nn  : {:.4f}\".format( mean_err_nn) )\n",
    "print(\"mean err rand: {:.4f}\\n\".format( mean_err_rand))\n",
    "\n",
    "print(\"mean err nn  : {:.4f}%\".format(mpe_nn))\n",
    "print(\"mean err rand: {:.4f}%\".format(mpe_rand))"
   ]
  },
  {
   "cell_type": "code",
   "execution_count": 24,
   "metadata": {},
   "outputs": [
    {
     "data": {
      "image/png": "[encoded data removed]",
      "text/plain": [
       "<matplotlib.figure.Figure at 0x10d64ca20>"
      ]
     },
     "metadata": {},
     "output_type": "display_data"
    }
   ],
   "source": [
    "energies = [mean_psi0_hat_e, np.mean(e2_e), np.mean(e1_e), np.mean(e0_e)] #+ [mean_err_rand]\n",
    "labels = ['$E_{\\psi_{NN}}$', '$E_2$', '$E_1$', '$E_0$'] #+ ['$E_{rand}$', ]\n",
    "energies = np.vstack([energies]*2).T\n",
    "\n",
    "f3 = plt.figure(figsize=[3,9])\n",
    "for i, e in enumerate(energies):\n",
    "    plt.plot(e, linewidth=6.0)\n",
    "plt.title(\"Average energy\", fontsize=16)\n",
    "plt.legend(labels, ncol=1, fontsize=16, loc=(1.1,.33)) #, loc='upper right'\n",
    "plt.gca().axes.get_xaxis().set_visible(False)\n",
    "plt.setp(plt.gca().axes.get_yticklabels(), fontsize=16)\n",
    "plt.show() #; f3.savefig('./figures/spectra.pdf', bbox_inches='tight')"
   ]
  },
  {
   "cell_type": "markdown",
   "metadata": {},
   "source": [
    "### What's the distribution of percent error?"
   ]
  },
  {
   "cell_type": "code",
   "execution_count": null,
   "metadata": {
    "collapsed": true
   },
   "outputs": [],
   "source": [
    "mpes = np.abs(e0_e.ravel() - psi0_hat_e.ravel()) / np.mean(np.abs(e0_e)) * 100\n",
    "plt.hist(mpes, bins=40)\n",
    "plt.ylabel('Frequency') ; plt.xlabel('Percent error')\n",
    "plt.show()"
   ]
  },
  {
   "cell_type": "markdown",
   "metadata": {},
   "source": [
    "### Does the model sometimes choose second eigenvalues?\n",
    "\n",
    "Running this cell a couple (5-10 times) should reveal a prediction or two which is more similar to the first excited state than to the ground state"
   ]
  },
  {
   "cell_type": "code",
   "execution_count": null,
   "metadata": {
    "collapsed": true
   },
   "outputs": [],
   "source": [
    "b=1\n",
    "\n",
    "np_c, np_H, np_e0, np_psi0, np_e1, np_psi1, _, _ = next_batch(D_side, batch_size=b, just_ground=False)\n",
    "real_c = Variable(torch.Tensor(np_c))\n",
    "real_H = Variable(torch.Tensor(np_H))\n",
    "real_e0 = Variable(torch.Tensor(np_e0))\n",
    "real_psi0 = Variable(torch.Tensor(np_psi0))\n",
    "real_e1 = Variable(torch.Tensor(np_e1))\n",
    "real_psi1 = Variable(torch.Tensor(np_psi1))\n",
    "psi0_hat = model(real_c, batch_size=b) \n",
    "\n",
    "diff = psi0_hat - real_psi0\n",
    "psi1_hat = dot_norm(diff)\n",
    "\n",
    "np_real_psi0 = real_psi0.data.numpy()\n",
    "np_real_psi1 = real_psi1.data.numpy()\n",
    "np_psi1_hat = psi1_hat.data.numpy()\n",
    "\n",
    "sd, mn = np.std(np_real_psi1), np.mean(np_real_psi1)\n",
    "cl = [mn-2*sd,mn+2*sd]\n",
    "use_cl = True\n",
    "if use_cl: print(cl)\n",
    "\n",
    "f3 = plt.figure(figsize=[8,4])\n",
    "\n",
    "plt.subplot(311)\n",
    "plt.imshow(np_real_psi0) ; plt.title('exact $\\psi_0$')\n",
    "if use_cl: plt.clim(*cl)\n",
    "plt.gca().axes.get_xaxis().set_visible(False)\n",
    "plt.gca().axes.get_yaxis().set_visible(False)\n",
    "    \n",
    "plt.subplot(312)\n",
    "im = plt.imshow(np_real_psi1) ; plt.title('exact $\\psi_1$')\n",
    "if use_cl: plt.clim(*cl)\n",
    "plt.gca().axes.get_xaxis().set_visible(False)\n",
    "plt.gca().axes.get_yaxis().set_visible(False)\n",
    "    \n",
    "plt.subplot(313)\n",
    "im = plt.imshow(np_psi1_hat) ; plt.title('estimated $\\psi_0$')\n",
    "if use_cl: plt.clim(*cl)\n",
    "plt.gca().axes.get_xaxis().set_visible(False)\n",
    "plt.gca().axes.get_yaxis().set_visible(False)\n",
    "\n",
    "cax = f3.add_axes([0.95, 0.15, 0.02, 0.7])\n",
    "cb = f3.colorbar(im, cax=cax, orientation='vertical')\n",
    "cb.set_label('color scale')\n",
    "\n",
    "plt.show() #; f3.savefig('./figures/psi2-compare.pdf', bbox_inches='tight')"
   ]
  },
  {
   "cell_type": "code",
   "execution_count": null,
   "metadata": {
    "collapsed": true
   },
   "outputs": [],
   "source": []
  }
 ],
 "metadata": {
  "kernelspec": {
   "display_name": "Python 3",
   "language": "python",
   "name": "python3"
  },
  "language_info": {
   "codemirror_mode": {
    "name": "ipython",
    "version": 3
   },
   "file_extension": ".py",
   "mimetype": "text/x-python",
   "name": "python",
   "nbconvert_exporter": "python",
   "pygments_lexer": "ipython3",
   "version": "3.6.1"
  }
 },
 "nbformat": 4,
 "nbformat_minor": 2
}
