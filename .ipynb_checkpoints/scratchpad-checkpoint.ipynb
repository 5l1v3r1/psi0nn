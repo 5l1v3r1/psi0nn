{
 "cells": [
  {
   "cell_type": "markdown",
   "metadata": {},
   "source": [
    "# Scratchpad\n",
    "**Exploring the world of Matrix Product States (MPS) and Density Matrix Renormalization Groups (DMRG)**\n",
    "\n",
    "Sam Greydanus. January 2017. MIT License"
   ]
  },
  {
   "cell_type": "code",
   "execution_count": 1,
   "metadata": {
    "collapsed": true
   },
   "outputs": [],
   "source": [
    "import numpy as np"
   ]
  },
  {
   "cell_type": "markdown",
   "metadata": {},
   "source": [
    "## Full SVD"
   ]
  },
  {
   "cell_type": "code",
   "execution_count": 21,
   "metadata": {
    "collapsed": false
   },
   "outputs": [
    {
     "name": "stdout",
     "output_type": "stream",
     "text": [
      "[[-0.58404372 -0.5037757  -0.636477  ]\n",
      " [-0.59937116 -0.26112974  0.75668056]\n",
      " [-0.54740035  0.82342049 -0.14943744]] \n",
      "\n",
      "[ 6.05918802  2.09606914  0.9448464 ] \n",
      "\n",
      "[[-0.46633574 -0.67022208 -0.57735027]\n",
      " [ 0.81359722 -0.06874756 -0.57735027]\n",
      " [-0.34726148  0.73896964 -0.57735027]] \n",
      "\n",
      "properties of SVD:\n",
      "\n",
      "[[  1.00000000e+00  -1.66533454e-16   1.38777878e-17]\n",
      " [ -1.66533454e-16   1.00000000e+00  -1.11022302e-16]\n",
      " [  1.38777878e-17  -1.11022302e-16   1.00000000e+00]] \n",
      "\n",
      "[[  1.00000000e+00   1.66533454e-16   2.22044605e-16]\n",
      " [  1.66533454e-16   1.00000000e+00   2.77555756e-16]\n",
      " [  2.22044605e-16   2.77555756e-16   1.00000000e+00]] \n",
      "\n",
      "[[ 1.  2.  3.]\n",
      " [ 1.  3.  2.]\n",
      " [ 3.  2.  1.]] \n",
      "\n"
     ]
    }
   ],
   "source": [
    "M = np.asarray( [[1,2,3],[1,3,2],[3,2,1]] )\n",
    "U, s, V = np.linalg.svd(M, full_matrices=True)\n",
    "print U, '\\n'\n",
    "print s, '\\n'\n",
    "print V.conjugate().transpose(), '\\n'\n",
    "\n",
    "print \"properties of SVD:\\n\"\n",
    "print np.dot(U.conjugate().transpose(),U), '\\n'\n",
    "print np.dot(V.conjugate().transpose(),V), '\\n'\n",
    "print np.dot(U, np.dot(np.diag(s),V)), '\\n'"
   ]
  },
  {
   "cell_type": "code",
   "execution_count": 31,
   "metadata": {
    "collapsed": false
   },
   "outputs": [
    {
     "name": "stdout",
     "output_type": "stream",
     "text": [
      "[[-0.58404372 -0.5037757 ]\n",
      " [-0.59937116 -0.26112974]\n",
      " [-0.54740035  0.82342049]] \n",
      "\n",
      "[ 6.05918802  2.09606914] \n",
      "\n",
      "[[-0.46633574  0.81359722]\n",
      " [-0.67022208 -0.06874756]\n",
      " [-0.57735027 -0.57735027]] \n",
      "\n",
      "properties of SVD:\n",
      "\n",
      "[[  1.00000000e+00  -1.66533454e-16]\n",
      " [ -1.66533454e-16   1.00000000e+00]] \n",
      "\n",
      "[[  1.00000000e+00  -1.11022302e-16]\n",
      " [ -1.11022302e-16   1.00000000e+00]] \n",
      "\n"
     ]
    },
    {
     "ename": "ValueError",
     "evalue": "shapes (2,2) and (3,2) not aligned: 2 (dim 1) != 3 (dim 0)",
     "output_type": "error",
     "traceback": [
      "\u001b[0;31m---------------------------------------------------------------------------\u001b[0m",
      "\u001b[0;31mValueError\u001b[0m                                Traceback (most recent call last)",
      "\u001b[0;32m<ipython-input-31-fcdbfbb7743d>\u001b[0m in \u001b[0;36m<module>\u001b[0;34m()\u001b[0m\n\u001b[1;32m     12\u001b[0m \u001b[0;32mprint\u001b[0m \u001b[0mnp\u001b[0m\u001b[0;34m.\u001b[0m\u001b[0mdot\u001b[0m\u001b[0;34m(\u001b[0m\u001b[0mU\u001b[0m\u001b[0;34m.\u001b[0m\u001b[0mconjugate\u001b[0m\u001b[0;34m(\u001b[0m\u001b[0;34m)\u001b[0m\u001b[0;34m.\u001b[0m\u001b[0mtranspose\u001b[0m\u001b[0;34m(\u001b[0m\u001b[0;34m)\u001b[0m\u001b[0;34m,\u001b[0m\u001b[0mU\u001b[0m\u001b[0;34m)\u001b[0m\u001b[0;34m,\u001b[0m \u001b[0;34m'\\n'\u001b[0m\u001b[0;34m\u001b[0m\u001b[0m\n\u001b[1;32m     13\u001b[0m \u001b[0;32mprint\u001b[0m \u001b[0mnp\u001b[0m\u001b[0;34m.\u001b[0m\u001b[0mdot\u001b[0m\u001b[0;34m(\u001b[0m\u001b[0mV\u001b[0m\u001b[0;34m.\u001b[0m\u001b[0mconjugate\u001b[0m\u001b[0;34m(\u001b[0m\u001b[0;34m)\u001b[0m\u001b[0;34m.\u001b[0m\u001b[0mtranspose\u001b[0m\u001b[0;34m(\u001b[0m\u001b[0;34m)\u001b[0m\u001b[0;34m,\u001b[0m\u001b[0mV\u001b[0m\u001b[0;34m)\u001b[0m\u001b[0;34m,\u001b[0m \u001b[0;34m'\\n'\u001b[0m\u001b[0;34m\u001b[0m\u001b[0m\n\u001b[0;32m---> 14\u001b[0;31m \u001b[0;32mprint\u001b[0m \u001b[0mnp\u001b[0m\u001b[0;34m.\u001b[0m\u001b[0mdot\u001b[0m\u001b[0;34m(\u001b[0m\u001b[0mU\u001b[0m\u001b[0;34m,\u001b[0m \u001b[0mnp\u001b[0m\u001b[0;34m.\u001b[0m\u001b[0mdot\u001b[0m\u001b[0;34m(\u001b[0m\u001b[0mnp\u001b[0m\u001b[0;34m.\u001b[0m\u001b[0mdiag\u001b[0m\u001b[0;34m(\u001b[0m\u001b[0ms\u001b[0m\u001b[0;34m)\u001b[0m\u001b[0;34m,\u001b[0m\u001b[0mV\u001b[0m\u001b[0;34m)\u001b[0m\u001b[0;34m)\u001b[0m\u001b[0;34m,\u001b[0m \u001b[0;34m'\\n'\u001b[0m\u001b[0;34m\u001b[0m\u001b[0m\n\u001b[0m",
      "\u001b[0;31mValueError\u001b[0m: shapes (2,2) and (3,2) not aligned: 2 (dim 1) != 3 (dim 0)"
     ]
    }
   ],
   "source": [
    "## Reduced SVD\n",
    "M = np.asarray( [[1,2,3],[1,3,2],[3,2,1]] )\n",
    "U, s, V = np.linalg.svd(M, full_matrices=True)\n",
    "U = U[:,:2]\n",
    "s = s[:2]\n",
    "V = V[:2,:]\n",
    "print U, '\\n'\n",
    "print s, '\\n'\n",
    "print V, '\\n'\n",
    "\n",
    "print \"properties of SVD:\\n\"\n",
    "print np.dot(U.conjugate().transpose(),U), '\\n'\n",
    "print np.dot(V.conjugate().transpose(),V), '\\n'\n",
    "print np.dot(U, np.dot(np.diag(s),V)), '\\n'"
   ]
  },
  {
   "cell_type": "code",
   "execution_count": null,
   "metadata": {
    "collapsed": true
   },
   "outputs": [],
   "source": []
  }
 ],
 "metadata": {
  "kernelspec": {
   "display_name": "Python 2",
   "language": "python",
   "name": "python2"
  },
  "language_info": {
   "codemirror_mode": {
    "name": "ipython",
    "version": 2
   },
   "file_extension": ".py",
   "mimetype": "text/x-python",
   "name": "python",
   "nbconvert_exporter": "python",
   "pygments_lexer": "ipython2",
   "version": "2.7.10"
  }
 },
 "nbformat": 4,
 "nbformat_minor": 1
}
