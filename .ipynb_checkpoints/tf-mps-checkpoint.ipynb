{
 "cells": [
  {
   "cell_type": "code",
   "execution_count": 1,
   "metadata": {
    "collapsed": true
   },
   "outputs": [],
   "source": [
    "import numpy as np\n",
    "import copy\n",
    "from scipy.sparse import kron, identity\n",
    "from scipy.sparse.linalg import eigsh  # Lanczos routine from ARPACK\n",
    "\n",
    "import tensorflow as tf\n",
    "sess = tf.InteractiveSession()\n",
    "\n",
    "import matplotlib.pyplot as plt\n",
    "%matplotlib inline"
   ]
  },
  {
   "cell_type": "code",
   "execution_count": 27,
   "metadata": {
    "collapsed": false
   },
   "outputs": [
    {
     "data": {
      "text/plain": [
       "array([[ 0.,  1.],\n",
       "       [ 1.,  0.]])"
      ]
     },
     "execution_count": 27,
     "metadata": {},
     "output_type": "execute_result"
    }
   ],
   "source": [
    "1 - np.eye(2)"
   ]
  },
  {
   "cell_type": "code",
   "execution_count": 46,
   "metadata": {
    "collapsed": false
   },
   "outputs": [
    {
     "name": "stdout",
     "output_type": "stream",
     "text": [
      "[[ 0.70710678  0.        ]\n",
      " [ 0.         -0.70710678]]\n",
      "[[-1.5 -0.  -0.  -0.  -0.  -0.  -0.  -0. ]\n",
      " [-0.   0.5 -0.  -0.  -0.  -0.  -0.  -0. ]\n",
      " [-0.  -0.   0.5 -0.  -0.  -0.  -0.  -0. ]\n",
      " [-0.  -0.  -0.   0.5 -0.  -0.  -0.  -0. ]\n",
      " [-0.  -0.  -0.  -0.   0.5 -0.  -0.  -0. ]\n",
      " [-0.  -0.  -0.  -0.  -0.   0.5 -0.  -0. ]\n",
      " [-0.  -0.  -0.  -0.  -0.  -0.   0.5 -0. ]\n",
      " [-0.  -0.  -0.  -0.  -0.  -0.  -0.  -1.5]]\n",
      "\n",
      "[-1.5 -1.5] \n",
      "[[  9.96115377e-01   8.80576787e-02]\n",
      " [  0.00000000e+00  -1.11022302e-16]\n",
      " [  0.00000000e+00   0.00000000e+00]\n",
      " [  0.00000000e+00   0.00000000e+00]\n",
      " [  0.00000000e+00   5.55111512e-17]\n",
      " [  0.00000000e+00  -2.77555756e-17]\n",
      " [  1.11022302e-16  -1.11022302e-16]\n",
      " [ -8.80576787e-02   9.96115377e-01]]\n",
      "[  9.08057699e-01   1.11022302e-16   0.00000000e+00   0.00000000e+00\n",
      "  -5.55111512e-17   2.77555756e-17   2.22044605e-16  -1.08417306e+00]\n"
     ]
    }
   ],
   "source": [
    "\n",
    "z_i = np.sqrt(0.5)*(np.eye(2)) ; z_i[-1,-1] *= -1 # sigma z\n",
    "\n",
    "z1 = np.kron( np.kron(z_i, z_i), np.eye(2))\n",
    "z2 = np.kron( np.kron(z_i, np.eye(2)), z_i)\n",
    "z3 = np.kron( np.kron(np.eye(2), z_i), z_i)\n",
    "H = -(z1 + z2 + z3)\n",
    "    \n",
    "\n",
    "energy, psi0 = eigsh(H, k=2, which=\"SA\")\n",
    "print z_i\n",
    "print H\n",
    "print '\\n', energy, '\\n', psi0\n",
    "print psi0[:,0] - psi0[:,1]\n",
    "# e_full_sys = energy/L\n",
    "# print 'energy/L: ', e_full_sys\n",
    "# print 'Hamiltonian dims: ', H.shape"
   ]
  },
  {
   "cell_type": "code",
   "execution_count": 37,
   "metadata": {
    "collapsed": false
   },
   "outputs": [
    {
     "name": "stdout",
     "output_type": "stream",
     "text": [
      "[[ 0.70710678  0.        ]\n",
      " [ 0.         -0.70710678]]\n",
      "[[ 0.5  0.   0.   0. ]\n",
      " [ 0.  -0.5  0.  -0. ]\n",
      " [ 0.   0.  -0.5 -0. ]\n",
      " [ 0.  -0.  -0.   0.5]]\n",
      "\n",
      "-0.5 \n",
      "[[ -3.46944695e-18]\n",
      " [  6.38778819e-01]\n",
      " [  7.69390421e-01]\n",
      " [  1.11022302e-16]]\n"
     ]
    }
   ],
   "source": [
    "z_i = np.sqrt(0.5)*(np.eye(2)) ; z_i[-1,-1] *= -1 # sigma z\n",
    "\n",
    "H = np.kron(z_i, z_i)\n",
    "    \n",
    "\n",
    "(energy,), psi0 = eigsh(H, k=1, which=\"SA\")\n",
    "print z_i\n",
    "print H\n",
    "print '\\n', energy, '\\n', psi0\n",
    "# e_full_sys = energy/L\n",
    "# print 'energy/L: ', e_full_sys\n",
    "# print 'Hamiltonian dims: ', H.shape"
   ]
  },
  {
   "cell_type": "code",
   "execution_count": 2,
   "metadata": {
    "collapsed": false
   },
   "outputs": [],
   "source": [
    "d = 2 # 2 states\n",
    "X = 3 # 3 sites\n",
    "A_list = [] # MPS list of coefficients\n",
    "\n",
    "# build GHZ 3-site MPS\n",
    "for state in range(d):\n",
    "    A_list.append([])\n",
    "    for site in range(X):\n",
    "        A = np.zeros((d,d)) ; A[state,state] = 1\n",
    "        A_list[state].append(A)"
   ]
  },
  {
   "cell_type": "code",
   "execution_count": 3,
   "metadata": {
    "collapsed": false
   },
   "outputs": [
    {
     "name": "stdout",
     "output_type": "stream",
     "text": [
      "[ 1.  0.  0.  0.  0.  0.  0.  1.]\n"
     ]
    }
   ],
   "source": [
    "def to_base_n(x, n):\n",
    "    s = \"\"\n",
    "    while x:\n",
    "        s = str(x % n) + s ; x /= n\n",
    "    return '0' if s is '' else s\n",
    "string = to_base_n(8,2)\n",
    "\n",
    "def mps2state(A_list, d, X):\n",
    "    c = np.zeros(d**X)\n",
    "    for sys_state in range(d**X):\n",
    "        ix = to_base_n(sys_state, d)\n",
    "        ix = '0'*(len(A_list[0])-len(ix)) + ix\n",
    "        for site in range(X):\n",
    "            site_state = A_list[int(ix[site])][site]\n",
    "            prod = site_state if site is 0 else np.dot(prod, site_state)\n",
    "        c[sys_state] = np.trace(prod)\n",
    "    return c\n",
    "psi = mps2state(A_list, d, X)\n",
    "print psi"
   ]
  },
  {
   "cell_type": "code",
   "execution_count": 5,
   "metadata": {
    "collapsed": false
   },
   "outputs": [],
   "source": [
    "def tf_mps2state(A_list):\n",
    "    d = len(A_list) ; X = len(A_list[0])\n",
    "    \n",
    "    c = []\n",
    "    for sys_state in range(d**X):\n",
    "        ix = to_base_n(sys_state, d)\n",
    "        ix = '0'*(len(A_list[0])-len(ix)) + ix\n",
    "        for site in range(X):\n",
    "            site_state = A_list[int(ix[site])][site]\n",
    "            prod = site_state if site is 0 else tf.matmul(prod, site_state)\n",
    "        c.append(tf.trace(prod))\n",
    "    return tf.stack(c)"
   ]
  },
  {
   "cell_type": "code",
   "execution_count": 126,
   "metadata": {
    "collapsed": false
   },
   "outputs": [
    {
     "name": "stdout",
     "output_type": "stream",
     "text": [
      "[ 1.  0.  0.  0.  0.  0.  0.  1.]\n"
     ]
    }
   ],
   "source": [
    "tf_coeff = tf.placeholder(tf.float32, [d*X*d*d])\n",
    "coeff = np.concatenate(A_list,axis=0)\n",
    "coeff = coeff.ravel() ; print coeff\n",
    "feed = {tf_coeff: coeff}\n",
    "\n",
    "tf_A_list = tf.split(tf_coeff,d*X)\n",
    "tf_A_list = [tf.reshape(c, [d,d]) for c in tf_A_list]\n",
    "tf_A_list = [tf_A_list[d_i*X:(1+d_i)*X] for d_i in range(d)]\n",
    "c = tf_mps2state(tf_A_list)\n",
    "print c.eval(feed)"
   ]
  },
  {
   "cell_type": "code",
   "execution_count": 121,
   "metadata": {
    "collapsed": false
   },
   "outputs": [],
   "source": [
    "# # C = [np.concatenate(A_list[i],axis=1) for i in range(len(A_list))]\n",
    "# C = np.concatenate(A_list,axis=0)\n",
    "# C = C.ravel()\n",
    "# print C\n",
    "# C = np.split(C,range(d*d,d*d*d*X,d*d))\n",
    "# C = [c.reshape(d,d) for c in C]\n",
    "# C = [C[d_i*X:(1+d_i)*X] for d_i in range(d)]\n",
    "# print C[1]\n",
    "\n",
    "# tf_coeff = tf.placeholder(tf.float32, [d*X*d*d])\n",
    "\n",
    "# coeff = np.concatenate(A_list,axis=0)\n",
    "# coeff = np.cumsum(coeff.ravel()) ; print coeff\n",
    "# feed = {tf_coeff: coeff}"
   ]
  },
  {
   "cell_type": "code",
   "execution_count": null,
   "metadata": {
    "collapsed": true
   },
   "outputs": [],
   "source": []
  }
 ],
 "metadata": {
  "kernelspec": {
   "display_name": "Python 2",
   "language": "python",
   "name": "python2"
  },
  "language_info": {
   "codemirror_mode": {
    "name": "ipython",
    "version": 2
   },
   "file_extension": ".py",
   "mimetype": "text/x-python",
   "name": "python",
   "nbconvert_exporter": "python",
   "pygments_lexer": "ipython2",
   "version": "2.7.10"
  }
 },
 "nbformat": 4,
 "nbformat_minor": 1
}
